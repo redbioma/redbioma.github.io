{
  "cells": [
    {
      "cell_type": "markdown",
      "metadata": {},
      "source": [
        "\n",
        "### *Integrantes:*\n",
        "\n",
        "### *Francisco García Gruz* ###\n",
        "\n",
        "### *Víctor Sojo Chaves* ###\n"
      ]
    },
    {
      "cell_type": "markdown",
      "metadata": {
        "id": "V2gB2ZCEY-6w"
      },
      "source": [
        "# Antes de iniciar la ejecucion es necesario conocer el formato de nuestro archivo .csv\n"
      ]
    },
    {
      "cell_type": "code",
      "execution_count": null,
      "metadata": {
        "id": "lUtcYm20iVi4"
      },
      "outputs": [],
      "source": [
        "#Es necesario conocer en que formato se encuentra nuestro archivo\n",
        "\n",
        "!file -i /content/PSA_2015_2023.csv"
      ]
    },
    {
      "cell_type": "markdown",
      "metadata": {
        "id": "ABjN3RRAZMR0"
      },
      "source": [
        "# Se genera la conexión con Google Drive, se genera la lectura del archivo .csv y se crea un Dataframe.\n"
      ]
    },
    {
      "cell_type": "code",
      "execution_count": null,
      "metadata": {
        "collapsed": true,
        "id": "b18XLWH8ihd_"
      },
      "outputs": [],
      "source": [
        "import pandas as pd\n",
        "\n",
        "from google.colab import drive\n",
        "\n",
        "# Lectura en Drive\n",
        "drive.mount('/content/drive')\n",
        "\n",
        "# Crear un df con el archivo\n",
        "\n",
        "df = pd.read_csv('/content/PSA_2015_2023.csv', delimiter=\";\", encoding='ISO-8859-1')\n",
        "df.head()"
      ]
    },
    {
      "cell_type": "markdown",
      "metadata": {
        "id": "umkDJoU5bMTY"
      },
      "source": [
        "# Se crea una copia del dataframe original\n"
      ]
    },
    {
      "cell_type": "code",
      "execution_count": 3,
      "metadata": {
        "executionInfo": {
          "elapsed": 216,
          "status": "ok",
          "timestamp": 1717373231091,
          "user": {
            "displayName": "Victor Sojo",
            "userId": "10862096401079711865"
          },
          "user_tz": 360
        },
        "id": "c8aRHt5kzLck"
      },
      "outputs": [],
      "source": [
        "#Creacion de una copia del data frame (df)\n",
        "\n",
        "df1 = df"
      ]
    },
    {
      "cell_type": "markdown",
      "metadata": {
        "id": "f-xxMG58Z0ug"
      },
      "source": [
        "# Se realiza la consulta del nombre de las columnas del df\n"
      ]
    },
    {
      "cell_type": "code",
      "execution_count": null,
      "metadata": {
        "id": "qggrDc5I6OHg"
      },
      "outputs": [],
      "source": [
        "#Para conocer el nombre de las columnas\n",
        "\n",
        "print(df1.columns.tolist())"
      ]
    },
    {
      "cell_type": "markdown",
      "metadata": {
        "id": "z79jfvxpZ-wQ"
      },
      "source": [
        "# Al realizar la consulta de los nombres de las columnas, se logra determinar que existen columnas sin referencia, las cuales procedemos a eliminar del df1\n"
      ]
    },
    {
      "cell_type": "code",
      "execution_count": null,
      "metadata": {
        "id": "2gd8SmIS5TT4"
      },
      "outputs": [],
      "source": [
        "# Eliminar las columnas 'B' y 'C' en el rango\n",
        "df1.drop(columns=['Unnamed: 38', 'Unnamed: 39', 'Unnamed: 40', 'Unnamed: 41', 'Unnamed: 42', 'Unnamed: 43', 'Unnamed: 44', 'Unnamed: 45', 'Unnamed: 46'], inplace=True)\n",
        "\n",
        "df1.head()"
      ]
    },
    {
      "cell_type": "markdown",
      "metadata": {
        "id": "r_iSicmHaRup"
      },
      "source": [
        "# Se realiza la carga de la blibliotecas y la instalación del modulo para generar el informe.\n"
      ]
    },
    {
      "cell_type": "code",
      "execution_count": null,
      "metadata": {
        "id": "Qg-YJyN7y-LM"
      },
      "outputs": [],
      "source": [
        "#Se cargan las librerías necesarias para generar el reporte\n",
        "\n",
        "import numpy as np\n",
        "import pandas as pd\n",
        "import seaborn as sns\n",
        "import matplotlib.pyplot as plt\n",
        "%pip install ydata_profiling\n",
        "from ydata_profiling import ProfileReport\n"
      ]
    },
    {
      "cell_type": "markdown",
      "metadata": {
        "id": "KtK0NrZ8ag7Y"
      },
      "source": [
        "# Se genera el informe correspondiente al df1\n"
      ]
    },
    {
      "cell_type": "code",
      "execution_count": null,
      "metadata": {
        "id": "4kHvyigYy-S9"
      },
      "outputs": [],
      "source": [
        "# Creamos el informe con pandas-profiling\n",
        "nombre = \"PSA 2015-2023\"\n",
        "profile = ProfileReport(df1, title=nombre, explorative=True)\n",
        "\n",
        "# Mostrar el informe en un notebook (si estás usando Jupyter o similares)\n",
        "profile.to_notebook_iframe()"
      ]
    },
    {
      "cell_type": "markdown",
      "metadata": {
        "id": "JCZ3M5E3ase_"
      },
      "source": [
        "# Se realiza la estimación de los valores Nan (nulos) en el df1\n"
      ]
    },
    {
      "cell_type": "code",
      "execution_count": null,
      "metadata": {
        "id": "1UXEIGMdzLZG"
      },
      "outputs": [],
      "source": [
        "#Se estiman los valores nulos en el Dataframe original\n",
        "df1.isna().sum()"
      ]
    },
    {
      "cell_type": "markdown",
      "metadata": {
        "id": "uwvo8CNuYz4_"
      },
      "source": [
        "# Se realiza la creación de una columna para generar una contabilización y se modifican los valores \"Nan\" por valores de 0\n"
      ]
    },
    {
      "cell_type": "code",
      "execution_count": null,
      "metadata": {
        "id": "XfEmdAHu99kN"
      },
      "outputs": [],
      "source": [
        "# Se crear un diccionario con el nombre y el valor de la columna\n",
        "new_column_data = {\"valor\": 1}\n",
        "\n",
        "# Se llenan valores nulos con 0 y crea la columna \"valor\" con valor 1\n",
        "\n",
        "df1_filled = df1.fillna(\"0\").assign(**new_column_data)\n",
        "\n",
        "print (df1_filled.isna().sum())\n",
        "\n",
        "print ()\n",
        "\n",
        "print (df1_filled.head())"
      ]
    },
    {
      "cell_type": "markdown",
      "metadata": {
        "id": "bBebCS4ehpu5"
      },
      "source": [
        "# \\*\\* **Procedimiento Opcional:** \\*\\*\n",
        "\n",
        "1.  Se puede asignar un valor de 0 a las filas que contengan valores Nan\n",
        "2.  Se puede crear una nueva columna y asignarle valores de 1 para realizar la contabilización.\n"
      ]
    },
    {
      "cell_type": "code",
      "execution_count": null,
      "metadata": {
        "collapsed": true,
        "id": "TQyRYCvBcCGF"
      },
      "outputs": [],
      "source": [
        "#Se asigna un valor de 0 a todas las filas con valores nulos.\n",
        "\n",
        "#df1_filled = df1.fillna (\"0\")\n",
        "\n",
        "#df1_filled.isna().sum()"
      ]
    },
    {
      "cell_type": "code",
      "execution_count": null,
      "metadata": {
        "id": "hcOU7aYtzLfc"
      },
      "outputs": [],
      "source": [
        "#Se agrego una columna nueva (\"valor\") y se le asigno valores de \"1\" para poder realizar la contabilización de la cantidad de contratos por Actividad según Provincia\n",
        "\n",
        "# Drop the existing \"valor\" column\n",
        "#df1_filled.drop(columns=[\"valor\"], inplace=True)\n",
        "\n",
        "#df1_filled.insert(38, \"valor\", 1)\n",
        "\n",
        "#print (df1_filled.head())\n"
      ]
    },
    {
      "cell_type": "markdown",
      "metadata": {
        "id": "M_yyDbfVYhyx"
      },
      "source": [
        "# Se realiza la visualización de los cantidad de contratos por Provincia y Actividad\n"
      ]
    },
    {
      "cell_type": "code",
      "execution_count": null,
      "metadata": {
        "id": "Txrg8YHBeKQY"
      },
      "outputs": [],
      "source": [
        "#Se agrupan la cantidad de contratos por Provincia y Actividad\n",
        "\n",
        "df1_filled_grouped = df1_filled.groupby(['Provincia', 'Actividad'])['valor'].sum()\n",
        "\n",
        "df1_filled_grouped"
      ]
    },
    {
      "cell_type": "markdown",
      "metadata": {
        "id": "Taa0q02gQFzV"
      },
      "source": [
        "# Se grafica la variables Actividad por Provincia y se comprueba los valores de 0\n"
      ]
    },
    {
      "cell_type": "code",
      "execution_count": null,
      "metadata": {
        "id": "XM4PMozKeKXR"
      },
      "outputs": [],
      "source": [
        "#Para que muestre el codigo se debera de indicar esta linea antes del codigo\n",
        "%matplotlib inline\n",
        "\n",
        "# Tamaño del gráfico\n",
        "plt.figure(figsize=(6, 6))\n",
        "\n",
        "# Agrupar datos por especie y obtener el promedio\n",
        "conteo =df1_filled.groupby('Provincia')['valor'].sum()\n",
        "\n",
        "# Crear gráfico de barras\n",
        "# sepal_mean.plot(kind='bar')\n",
        "conteo.plot(kind='barh' )\n",
        "\n",
        "# Título del gráfico\n",
        "plt.title('Conteo de Contratos por Provincia')\n",
        "# Etiqueta del eje Y\n",
        "plt.ylabel('Provincia')\n",
        "# Etiqueta del eje X\n",
        "plt.xlabel('Conteo de contratos')\n",
        "plt.grid()\n",
        "\n",
        "plt.show()"
      ]
    },
    {
      "cell_type": "markdown",
      "metadata": {
        "id": "Iw_BZhHPQW0y"
      },
      "source": [
        "# Se identifican las filas que presentan valores de Provincia 0\n"
      ]
    },
    {
      "cell_type": "code",
      "execution_count": null,
      "metadata": {
        "id": "bDU0nxO-eKfG"
      },
      "outputs": [],
      "source": [
        "# Filtrar las filas donde la columna \"Provincia\" es igual a \"0\"\n",
        "\n",
        "specific_rows = df1_filled.loc[df1_filled['Provincia'] == '0']\n",
        "\n",
        "print(specific_rows)"
      ]
    },
    {
      "cell_type": "markdown",
      "metadata": {
        "id": "TZvUYZDQQjai"
      },
      "source": [
        "# Se realiza la correccion de las filas que poseen valores 0 y se les asigna la Provincia\n"
      ]
    },
    {
      "cell_type": "code",
      "execution_count": 13,
      "metadata": {
        "executionInfo": {
          "elapsed": 204,
          "status": "ok",
          "timestamp": 1717373649122,
          "user": {
            "displayName": "Victor Sojo",
            "userId": "10862096401079711865"
          },
          "user_tz": 360
        },
        "id": "HHMfclUcksHh"
      },
      "outputs": [],
      "source": [
        "#Se corrigen las columnas que no poseen asignado la Provincia y el valor era 0\n",
        "\n",
        "df1_filled.loc[(df1_filled['Provincia'] == \"0\") & (df1_filled['Contrato'] == 'NI-01-204-0279-2015'), 'Provincia'] = 'GUANACASTE'\n",
        "df1_filled.loc[(df1_filled['Provincia'] == \"0\") & (df1_filled['Contrato'] == 'SJ-02-22 -0209-2016'), 'Provincia'] = 'SAN JOSÉ'\n",
        "df1_filled.loc[(df1_filled['Provincia'] == \"0\") & (df1_filled['Contrato'] == 'SJ-01-22 -0041-2017'), 'Provincia'] = 'ALAJUELA'\n",
        "df1_filled.loc[(df1_filled['Provincia'] == \"0\") & (df1_filled['Contrato'] == 'SJ-01-22 -0090-2017'), 'Provincia'] = 'ALAJUELA'\n",
        "df1_filled.loc[(df1_filled['Provincia'] == \"0\") & (df1_filled['Contrato'] == 'CN-01-22 -0016-2020'), 'Provincia'] = 'HEREDIA'\n",
        "df1_filled.loc[(df1_filled['Provincia'] == \"0\") & (df1_filled['Contrato'] == 'LM-01-222-0049-2020'), 'Provincia'] = 'LIMÓN'\n",
        "df1_filled.loc[(df1_filled['Provincia'] == \"0\") & (df1_filled['Contrato'] == 'SJ-01-222-0132-2022'), 'Provincia'] = 'ALAJUELA'"
      ]
    },
    {
      "cell_type": "markdown",
      "metadata": {
        "id": "tkRcZfO4QxTo"
      },
      "source": [
        "# Se realiza la comprobación en la eliminación de los valores 0 en la columna Provincia\n"
      ]
    },
    {
      "cell_type": "code",
      "execution_count": null,
      "metadata": {
        "id": "ufBT7mH7ksJp"
      },
      "outputs": [],
      "source": [
        "# Se comprueba la correccion de la colunma \"Provincia\" es igual a \"0\"\n",
        "\n",
        "specific_rows = df1_filled.loc[df1_filled['Provincia'] == '0']\n",
        "\n",
        "print(specific_rows)"
      ]
    },
    {
      "cell_type": "markdown",
      "metadata": {
        "id": "YCLx-netVZTG"
      },
      "source": [
        "# Se realiza un nuevo plot de las variables Actividad por Provincia, con la correccion generada anteriormente.\n"
      ]
    },
    {
      "cell_type": "code",
      "execution_count": null,
      "metadata": {
        "id": "16rFvXvhksLn"
      },
      "outputs": [],
      "source": [
        "# Se imprime nuevamente el gráfico con la corrección realizada.\n",
        "\n",
        "#Para que muestre el codigo se debera de indicar esta linea antes del codigo en visual studio code\n",
        "%matplotlib inline\n",
        "\n",
        "# Tamaño del gráfico\n",
        "plt.figure(figsize=(6, 6))\n",
        "\n",
        "# Agrupar datos por especie y obtener el promedio\n",
        "conteo =df1_filled.groupby('Provincia')['valor'].sum()\n",
        "\n",
        "# Crear gráfico de barras\n",
        "# sepal_mean.plot(kind='bar')\n",
        "conteo.plot(kind='barh' )\n",
        "\n",
        "# Título del gráfico\n",
        "plt.title('Conteo de Contratos por Provincia')\n",
        "# Etiqueta del eje Y\n",
        "plt.ylabel('Provincia')\n",
        "# Etiqueta del eje X\n",
        "plt.xlabel('Conteo de contratos')\n",
        "plt.grid()\n",
        "\n",
        "plt.show()\n"
      ]
    },
    {
      "cell_type": "markdown",
      "metadata": {
        "id": "lITYC5AjVsQU"
      },
      "source": [
        "# Se realiza la cargar del GeoJSON de las Provincias de CR y se plotea\n"
      ]
    },
    {
      "cell_type": "code",
      "execution_count": null,
      "metadata": {
        "id": "HGDCdjA-ksNw"
      },
      "outputs": [],
      "source": [
        "# Carga los datos geoespaciales de la Provincias de Costa Rica \"ProvinciasCR_WGS84.geojson\"\n",
        "\n",
        "import geopandas as gpd\n",
        "\n",
        "# Se Carga la capa de Provincias de Costa Rica\n",
        "\n",
        "ruta_archivo = \"/content/ProvinciasCR_WGS84.geojson\"\n",
        "\n",
        "gdf = gpd.read_file(ruta_archivo)\n",
        "\n",
        "# Crea una figura y ejes\n",
        "fig, ax = plt.subplots()\n",
        "\n",
        "# Dibuja las geometrías del GeoJSON\n",
        "gdf.plot(ax=ax, alpha=1, color='blue', figsize= (8,8), edgecolor = 'black', label='GeoJSON')\n",
        "\n",
        "# Muestra el gráfico\n",
        "plt.show()"
      ]
    },
    {
      "cell_type": "markdown",
      "metadata": {
        "id": "4WxcFlC2XzfH"
      },
      "source": [
        "# Se realiza la carga del archivo shape de los contratos PSA 2019 y se consulta del tipo de geometría, proyección y datum del shapefile.\n"
      ]
    },
    {
      "cell_type": "code",
      "execution_count": null,
      "metadata": {
        "id": "ZOjiSWCGDdAy"
      },
      "outputs": [],
      "source": [
        "# Se lee el archivo y acceso a los detalles de geometria, proyección y datum\n",
        "\n",
        "ruta_archivo = \"/content/PSA_2019_WGS84.shp\"\n",
        "\n",
        "gdf = gpd.read_file(ruta_archivo)\n",
        "\n",
        "# Se accede a al tipo de geometria y atributos del GeoDataFrame\n",
        "gdf.geometry\n",
        "gdf.crs"
      ]
    },
    {
      "cell_type": "markdown",
      "metadata": {
        "id": "aY9zbkmjKJ1R"
      },
      "source": [
        "# **_Hay dos opciones para realizar la carga del Shape:_**\n",
        "\n",
        "## **Opcion 1:** _Se carga el shape PSA_2019_WGS84 y se visualiza el contenido del shapefile de contratos PSA 2019_\n"
      ]
    },
    {
      "cell_type": "code",
      "execution_count": null,
      "metadata": {
        "id": "yTNEK1STNd1V"
      },
      "outputs": [],
      "source": [
        "# Se carga el shapefile de los proyectos PSA 2019 desde Google Drive.\n",
        "\n",
        "import geopandas as gpd\n",
        "\n",
        "gdf = gpd.read_file('/content/PSA_2019_WGS84.shp')\n",
        "\n",
        "gdf.head()\n"
      ]
    },
    {
      "cell_type": "markdown",
      "metadata": {
        "id": "HNXGcVg_kJhO"
      },
      "source": [
        "# Se realiza la transformación de de la geometria multipoligono a puntos del shapefile PSA 2019.\n"
      ]
    },
    {
      "cell_type": "code",
      "execution_count": null,
      "metadata": {
        "id": "3slX_2CJdqMU"
      },
      "outputs": [],
      "source": [
        "import geopandas as gpd\n",
        "\n",
        "# Lee el shapefile\n",
        "gdf = gpd.read_file(\"/content/PSA_2019_WGS84.shp\")\n",
        "\n",
        "# Convierte las geometrías a puntos\n",
        "gdf['geometry'] = gdf['geometry'].centroid\n",
        "\n",
        "# Guarda el resultado en un nuevo shapefile\n",
        "gdf.to_file('puntos_shapefile.shp')\n",
        "\n",
        "# Se consulta los valores\n",
        "gdf.head()\n"
      ]
    },
    {
      "cell_type": "markdown",
      "metadata": {
        "id": "27JYh27qvIP6"
      },
      "source": [
        "# Se realiza el plot de los proyectos PSA 2019\n"
      ]
    },
    {
      "cell_type": "code",
      "execution_count": null,
      "metadata": {
        "id": "ADu8bnTXkjbG"
      },
      "outputs": [],
      "source": [
        "gdf_puntos = gpd.read_file('puntos_shapefile.shp')\n",
        "\n",
        "gdf_puntos.plot()"
      ]
    },
    {
      "cell_type": "markdown",
      "metadata": {
        "id": "fG-x5jmbvpRX"
      },
      "source": [
        "# Al realizar la transformación de la geometría multipoligono a puntos del shapefile PSA 2019, se genera un UserWarning. Motivo por el cual, se realiza el siguiente paso para reproyectar y verificar si efectivamente existe una mala proyección en el archivo de puntos.\n"
      ]
    },
    {
      "cell_type": "code",
      "execution_count": null,
      "metadata": {
        "id": "-5b1gFFzmdOa"
      },
      "outputs": [],
      "source": [
        "regiones = gpd.read_file('puntos_shapefile.shp')\n",
        "\n",
        "# Ploteo del archivo \"puntos_shapefile\" con sus coordenadas originales\n",
        "\n",
        "fig = plt.figure()\n",
        "ax = fig.add_subplot(111)\n",
        "regiones.plot(ax=ax, fc='none',ec='black')\n",
        "plt.title('Regiones de Costa Rica ' + str(regiones.crs))\n",
        "ax.set_xlabel('Longitud')\n",
        "ax.set_ylabel('Latitud')\n",
        "plt.show()\n",
        "\n",
        "\n",
        "# Ploteo de la una reproyección del archivo \"puntos_shapefile\" (se verifica si existe o no una mala Proyección)\n",
        "\n",
        "# WGS84 Proyección: 4326\n",
        "# CRTM05 Proyección: 5367\n",
        "\n",
        "regiones_proyectada = regiones.to_crs('EPSG:4326')\n",
        "\n",
        "fig = plt.figure()\n",
        "ax = fig.add_subplot(111)\n",
        "regiones_proyectada.plot(ax=ax, fc='none',ec='black')\n",
        "plt.title('Regiones de Costa Rica ' + str(regiones_proyectada.crs))\n",
        "ax.set_xlabel('Coordenada Este (Y)')\n",
        "ax.set_ylabel('Coordenada Norte (X)')\n",
        "plt.show()"
      ]
    },
    {
      "cell_type": "markdown",
      "metadata": {
        "id": "T_Z73DNRwep6"
      },
      "source": [
        "# Al generar el paso anterior, seguidamente se procede a verificar la similitud de los plots gdf_puntos y regiones_proyectada\n"
      ]
    },
    {
      "cell_type": "code",
      "execution_count": null,
      "metadata": {
        "collapsed": true,
        "id": "KeNGWv1Fm96d"
      },
      "outputs": [],
      "source": [
        "gdf_puntos.plot()\n",
        "\n",
        "regiones_proyectada.plot()"
      ]
    },
    {
      "cell_type": "markdown",
      "metadata": {
        "id": "tjQRuO0YZwfE"
      },
      "source": [
        "## **Opcion 2** : _Se carga el shape PSA_2019_WGS84, se visualiza el contenido del shapefile de contratos PSA 2019 y se crea un GeoDataFrame._\n"
      ]
    },
    {
      "cell_type": "markdown",
      "metadata": {
        "id": "pBEkaFKNrSjs"
      },
      "source": [
        "## Se accede a la información de la tabla de atributos del shapefile PSA 2019\n"
      ]
    },
    {
      "cell_type": "code",
      "execution_count": null,
      "metadata": {
        "id": "JNVm27Zu0YWg"
      },
      "outputs": [],
      "source": [
        "#Se accede al contenido del shapefile PSA_2019_WGS84, en sus primeras 5 lineas.\n",
        "\n",
        "sf_path = r'/content/PSA_2019_WGS84.shp'\n",
        "sf_df = gpd.read_file(sf_path)\n",
        "\n",
        "sf_df.head()"
      ]
    },
    {
      "cell_type": "markdown",
      "metadata": {
        "id": "VS2JDyiWrkw_"
      },
      "source": [
        "# Se verifica la geometría del GeoDataframe sf_df\n",
        "\n",
        "- Elemento de lista\n",
        "- Elemento de lista\n"
      ]
    },
    {
      "cell_type": "code",
      "execution_count": null,
      "metadata": {
        "id": "UHxFFNHVAVic"
      },
      "outputs": [],
      "source": [
        "sf_df.geometry.type"
      ]
    },
    {
      "cell_type": "markdown",
      "metadata": {
        "id": "j5Dnu4T7JWN5"
      },
      "source": [
        "# Se adiciona una nueva columna \"_geometry_points_\" para obtener de cada multipoligono un centroide.\n"
      ]
    },
    {
      "cell_type": "code",
      "execution_count": null,
      "metadata": {
        "id": "QvPntvL0F6sM"
      },
      "outputs": [],
      "source": [
        "sf_df[\"geometry_points\"] = sf_df[\"geometry\"].centroid\n",
        "\n",
        "sf_df.head()"
      ]
    },
    {
      "cell_type": "markdown",
      "metadata": {
        "id": "lgeoW3ZTsEi8"
      },
      "source": [
        "# Se genera el plot de las ubicaciones de los contratos PSA 2019 mediante puntos\n"
      ]
    },
    {
      "cell_type": "code",
      "execution_count": null,
      "metadata": {
        "id": "jd9u2BROF9fQ"
      },
      "outputs": [],
      "source": [
        "import geopandas as gpd\n",
        "import matplotlib.pyplot as plt\n",
        "\n",
        "# Supongamos que tienes un DataFrame llamado \"gdf\" con una columna \"geometry_points\"\n",
        "# que contiene los centroides de tus polígonos\n",
        "\n",
        "# Crear una figura y un eje\n",
        "fig, ax = plt.subplots(figsize=(5, 5))\n",
        "\n",
        "# Trazar los centroides desde la columna \"geometry_points\"\n",
        "sf_df[\"geometry_points\"].plot(ax=ax, color='blue', markersize=5)\n",
        "\n",
        "# Personalizar el gráfico (opcional)\n",
        "ax.set_title(\"Centroides de los polígonos\")\n",
        "ax.set_xlabel(\"Longitud\")\n",
        "ax.set_ylabel(\"Latitud\")\n",
        "\n",
        "# Mostrar el gráfico\n",
        "plt.show()\n",
        "\n"
      ]
    },
    {
      "cell_type": "markdown",
      "metadata": {
        "id": "Vmds6rReLfwH"
      },
      "source": [
        "# ** \\***Tomamos la opcion 1 y ejecutamos lo siguiente:**\\* **\n"
      ]
    },
    {
      "cell_type": "markdown",
      "metadata": {
        "id": "ReQkwmAm5qjZ"
      },
      "source": [
        "# Se carga el archivo de las Provincias de Costa Rica en formato Geojson y se crea un nuevo GEodataframe\n"
      ]
    },
    {
      "cell_type": "code",
      "execution_count": null,
      "metadata": {
        "id": "VYdp6kREF0o6"
      },
      "outputs": [],
      "source": [
        "#Se Carga la capa de Provincias de Costa Rica\n",
        "ruta_archivo = \"/content/ProvinciasCR_WGS84.geojson\"\n",
        "\n",
        "gdf = gpd.read_file(ruta_archivo)\n",
        "\n",
        "mapa_CR = gdf\n",
        "\n",
        "mapa_CR.plot(figsize= (8,8),edgecolor = 'black')"
      ]
    },
    {
      "cell_type": "markdown",
      "metadata": {
        "id": "QDfTtb4W5cZW"
      },
      "source": [
        "# Se adiciona al Geodataframe \"mapa_CR\" una nueva columna que corresponde a la delimitación de cada una de la provincias **\"_boundary_\"**\n"
      ]
    },
    {
      "cell_type": "code",
      "execution_count": null,
      "metadata": {
        "id": "qbxvhrxn0S_W"
      },
      "outputs": [],
      "source": [
        "mapa_CR['boundary'] = mapa_CR.boundary\n",
        "\n",
        "mapa_CR"
      ]
    },
    {
      "cell_type": "code",
      "execution_count": null,
      "metadata": {
        "collapsed": true,
        "id": "PoWReRfI7TSm"
      },
      "outputs": [],
      "source": [
        "#Vamos a graficar los proyectos PSA por cada una de las Provincias\n",
        "\n",
        "Alajuela = mapa_CR[mapa_CR['PROVINCIA'] == 'ALAJUELA']\n",
        "Alajuela.plot()\n",
        "\n",
        "Guanacaste = mapa_CR[mapa_CR['PROVINCIA'] == 'GUANACASTE']\n",
        "Guanacaste.plot()\n",
        "\n",
        "Limon = mapa_CR[mapa_CR['PROVINCIA'] == 'LIMON']\n",
        "Limon.plot()\n",
        "\n",
        "Heredia = mapa_CR[mapa_CR['PROVINCIA'] == 'HEREDIA']\n",
        "Heredia.plot()\n",
        "\n",
        "SanJose = mapa_CR[mapa_CR['PROVINCIA'] == 'SAN JOSE']\n",
        "SanJose.plot()\n",
        "\n",
        "Cartago = mapa_CR[mapa_CR['PROVINCIA'] == 'CARTAGO']\n",
        "Cartago.plot()\n",
        "\n",
        "Puntarenas = mapa_CR[mapa_CR['PROVINCIA'] == 'PUNTARENAS']\n",
        "Puntarenas.plot()"
      ]
    },
    {
      "cell_type": "code",
      "execution_count": null,
      "metadata": {
        "id": "NeS_H7PB7TVN"
      },
      "outputs": [],
      "source": [
        "# Ploteo sólo los registros de Alajuela en el DF de Alajuela\n",
        "#provincia = \"ALAJUELA\"\n",
        "provincia = \"GUANACASTE\"\n",
        "#provincia = \"LIMON\"\n",
        "\n",
        "filtered_obvs = gdf_puntos[gdf_puntos[\"PROVINCIA\"] == provincia]\n",
        "prov_map = mapa_CR[mapa_CR[\"PROVINCIA\"] == provincia]\n",
        "\n",
        "# Ploteo del mapa\n",
        "lienzo = prov_map.plot(figsize = (7,7), color=\"lightgreen\", edgecolor=\"black\", linewidth = 0.6)\n",
        "\n",
        "# Asignar título\n",
        "title = f'Obvservaciones registradas en {provincia}'\n",
        "# lienzo.set_title(title)\n",
        "lienzo.axis(\"off\")\n",
        "# Labels\n",
        "# lienzo.set_ylabel(\"Latitud\")\n",
        "# lienzo.set_xlabel(\"Longitud\")\n",
        "\n",
        "\n",
        "# Ploteo de los puntos\n",
        "filtered_obvs.plot(ax=lienzo, color=\"k\")"
      ]
    },
    {
      "cell_type": "markdown",
      "metadata": {
        "id": "5hkSxZO168aA"
      },
      "source": [
        "# ** \\***Se calcula la estadística para los valores numéricos**\\* **\n"
      ]
    },
    {
      "cell_type": "code",
      "execution_count": null,
      "metadata": {
        "id": "TLOnmVvN6VJ8"
      },
      "outputs": [],
      "source": [
        "df1_filled.describe()"
      ]
    },
    {
      "cell_type": "markdown",
      "metadata": {
        "id": "pjKtVNhmAZTO"
      },
      "source": [
        "# Interpretación de las variables estadísticas\n",
        "\n",
        "### \\* Área(ha) contratadas: Aunque el promedio de área contratada para el PSA corresponde con 64.8 ha, se establece que los valores para las desviaciones oscilan entre ± 129.4 ha.\n",
        "\n",
        "### \\* Edad: Utilizando la mediana como medida de tendencia central, se determinó que 64 años es la edad más frecuente para los propietarios en el programa PSA con contratos vigentes.\n"
      ]
    },
    {
      "cell_type": "code",
      "execution_count": null,
      "metadata": {
        "id": "euiiPSmTAZA5"
      },
      "outputs": [],
      "source": [
        "#Se categorizaron las edades usando un rango de 10 años\n",
        "\n",
        "df2 = df1_filled.copy()\n",
        "\n",
        "# Definir los límites de los rangos (intervalos)\n",
        "rangos = [4.9, 29.9, 39.9, 49.9, 59.9, 69.9, 79.9, 89.9, 125]\n",
        "\n",
        "# Etiquetas para los bins\n",
        "labels = ['<29', '30-39.9', '40-49.9', '50-59.9', '60-69.9', '70-79.9', '80-89.9', '>90']\n",
        "\n",
        "# Aplicar discretización\n",
        "df2['rangoEdad'] = pd.cut(df2['edadSegunReporte'], bins=rangos, labels=labels, include_lowest=True)\n",
        "display(df2[['rangoEdad', 'edadSegunReporte']])"
      ]
    },
    {
      "cell_type": "code",
      "execution_count": null,
      "metadata": {
        "id": "K6jQGnCiSKtj"
      },
      "outputs": [],
      "source": [
        "# Prueba de la clasificación de la edad segun la estimación anterior.\n",
        "\n",
        "display(df2.loc[df2['rangoEdad'] == '50-59.9', ['rangoEdad', 'edadSegunReporte']])"
      ]
    },
    {
      "cell_type": "code",
      "execution_count": null,
      "metadata": {
        "id": "U73XAyzko0Wd"
      },
      "outputs": [],
      "source": [
        "contValores= df2.groupby('rangoEdad')['valor'].sum()\n",
        "contValores\n",
        "\n",
        "conVal69 = df2['rangoEdad'] == '60-69.9'\n",
        "conVal69_r = conVal69.sum()\n",
        "conVal69_r\n",
        "\n",
        "fig, ax = plt.subplots()\n",
        "\n",
        "ax.plot(labels, contValores, label= 'Grupo etario', color = 'tab:blue')\n",
        "\n",
        "\n",
        "# # Título del gráfico\n",
        "ax.set_title('Frecuencia de las observaciones respecto al grupo etario')\n",
        "# # Etiqueta del eje X\n",
        "\n",
        "ax.set_xlabel('Grupo etario', fontdict = {'fontsize':14, 'fontweight':'bold', 'color':'tab:gray'})\n",
        "\n",
        "# # Etiqueta del eje Y\n",
        "ax.set_ylabel('Frecuencia')\n",
        "\n",
        "# # Indicar que línea corresponde a qué columna (leyenda)\n",
        "ax.legend(loc='upper right')\n",
        "\n",
        "histograma= df2.hist(column='edadSegunReporte', bins=9)\n",
        "display(histograma)\n",
        "\n",
        "# # Mostrar cuadrícula en el gráfico\n",
        "ax.grid(True)\n",
        "ax.set_xticks(range(0, 9))\n",
        "plt.setp(ax.get_xticklabels(), rotation=0)\n",
        "plt.show()"
      ]
    },
    {
      "cell_type": "markdown",
      "metadata": {
        "id": "CJ-rSIWtEBwk"
      },
      "source": [
        "## Del análisis anterior, se estima que el rango de la edad que oscila entre los 60-69.9 años fueron los que mostraron la mayor frecuencia de contratos inscritos (1834 unidades), lo cual podría guardar relación con la edad en que muchos de los propietarios prefieren desarrollar actividades relacionadas con la protección del bosque y abandonas otras actividades productivas como la ganadería y la agricultura.\n"
      ]
    },
    {
      "cell_type": "code",
      "execution_count": null,
      "metadata": {
        "id": "4JXNTZJZYtlP"
      },
      "outputs": [],
      "source": [
        "#Distribucion de la frecuancia por tipo de cliente\n",
        "\n",
        "dfgrupoEdad= df2.groupby('Tipo Cliente')['valor'].sum()\n",
        "dfgrupoEdad"
      ]
    },
    {
      "cell_type": "code",
      "execution_count": null,
      "metadata": {
        "id": "fObj28NNK62E"
      },
      "outputs": [],
      "source": [
        "#Grafico Apilado de Frecuencias\n",
        "ct= pd.crosstab(df2['rangoEdad'], df2['Tipo Cliente'])\n",
        "print(ct)\n",
        "barplot = ct.plot.bar(stacked=True)"
      ]
    },
    {
      "cell_type": "code",
      "execution_count": null,
      "metadata": {
        "id": "0-NejUCamn-V"
      },
      "outputs": [],
      "source": [
        "df_MasFem= pd.DataFrame(\n",
        "    [\n",
        "        ['<29', 20, 5],\n",
        "        ['30-39.9', 124, 48],\n",
        "        ['40-49.9', 210, 104],\n",
        "        ['50-59.9', 446, 219],\n",
        "        ['60-69.9', 600, 321],\n",
        "        ['70-79-9', 423, 271],\n",
        "        ['80,89.9', 174, 91],\n",
        "        ['>90', 51, 31]\n",
        "    ],\n",
        "    index= [1, 2, 3, 4, 5, 6, 7, 8],\n",
        "    columns= ['rangoEdad', 'Mujer', 'Hombre']\n",
        ")\n",
        "\n",
        "\n",
        "df_MasFem"
      ]
    },
    {
      "cell_type": "code",
      "execution_count": null,
      "metadata": {
        "id": "CjbmlsL4P9dQ"
      },
      "outputs": [],
      "source": [
        "# Diagrama de estructura de la edad\n",
        "\n",
        "import plotly.graph_objects as gp\n",
        "\n",
        "y_edad = df_MasFem['rangoEdad']\n",
        "x_Fem= df_MasFem['Mujer'] * -1\n",
        "x_Masc= df_MasFem['Hombre']\n",
        "\n",
        "fig = gp.Figure()\n",
        "fig.add_trace(gp.Bar(y=y_edad, x= x_Fem, name= 'Mujer', orientation= 'h'))\n",
        "fig.add_trace(gp.Bar(y=y_edad, x= x_Masc, name= 'Hombre', orientation= 'h'))\n",
        "\n",
        "fig.update_layout(title= 'Distribución de la edad por género',\n",
        "                  title_font_size= 22, barmode= 'relative',\n",
        "                  bargap= 0.0, bargroupgap= 0,\n",
        "                  xaxis= dict(tickvals= [-600, -300, 0, 300, 600],\n",
        "                              ticktext=['600', '300',\n",
        "                                        '0', '300', '600'],\n",
        "                              title= \"Frecuencia para la edad de los propietarios\",\n",
        "                              title_font_size=14)\n",
        "\n",
        "                  )\n",
        "fig.show()"
      ]
    },
    {
      "cell_type": "markdown",
      "metadata": {
        "id": "Vkl9i5N21esE"
      },
      "source": [
        "# **_FIN..._**\n"
      ]
    }
  ],
  "metadata": {
    "colab": {
      "collapsed_sections": [
        "bBebCS4ehpu5",
        "pBEkaFKNrSjs",
        "VS2JDyiWrkw_",
        "j5Dnu4T7JWN5",
        "lgeoW3ZTsEi8"
      ],
      "provenance": []
    },
    "kernelspec": {
      "display_name": "Python 3",
      "language": "python",
      "name": "python3"
    },
    "language_info": {
      "name": "python",
      "version": "3.11.5 (tags/v3.11.5:cce6ba9, Aug 24 2023, 14:38:34) [MSC v.1936 64 bit (AMD64)]"
    },
    "vscode": {
      "interpreter": {
        "hash": "397fea6183deba63d98721aba83dd933489d50df562c9c8e6088e07ec89a317f"
      }
    }
  },
  "nbformat": 4,
  "nbformat_minor": 0
}
