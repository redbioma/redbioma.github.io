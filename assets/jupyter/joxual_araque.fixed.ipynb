{
  "nbformat": 4,
  "nbformat_minor": 0,
  "metadata": {
    "colab": {
      "provenance": []
    },
    "kernelspec": {
      "name": "python3",
      "display_name": "Python 3"
    },
    "language_info": {
      "name": "python"
    }
  },
  "cells": [
    {
      "cell_type": "markdown",
      "source": [
        "Corredor ecológico para lepidópteras en zonas urbanas, entre el cerro Mokoron y UNAN, Managua.\n",
        "\n",
        "POR: Joxual J. Araque Pérez.\n",
        "\n",
        "Descripción del Proyecto\n",
        "El proyecto consiste en la aplicación de herramientas SIG (Sistemas de Información Geográfica) y visualización de datos con diversas librerías “Pandas, GeoPandas, Matplotlib”. Se analiza una base de datos de mariposas para establecer patrones de conectividad ecológica entre zonas de bosques, las cuales son remanentes para diferentes especies de lepidópteros. La práctica de Python para el manejo de archivos de imágenes raster y shapefiles nos permite obtener de manera sencilla y rápida la visualización de los datos, generando imágenes. Además, el análisis de datos de una tabla de Excel permite comparar de manera general la estructura de una comunidad con otra en relación al número de individuos y especies.\n",
        "\n",
        "Antecedentes\n",
        "El número de publicaciones referentes a comunidades de insectos en paisajes en proceso de fragmentación es muy limitado Maes et al. (2019), Hernández et al. (2003). Los parches o remanentes de bosques maduros pueden albergan mayor diversidad de especies, siendo prioridad establecer circuitos para conectarlos y que el flujo de fauna aumente (Araque,2024).\n",
        "\n",
        "Los cambios en el uso del suelo y la falta de planificación territorial incrementan la fragmentación de los bosques, lo que lleva al aislamiento de las especies en parches. La presión de la urbanización amenaza la biodiversidad al reducir progresivamente los pocos parches que actúan como hábitats (Merckx et al., 2018).\n",
        "Proponer corredores ecológicos mediante el uso de circuitos, resistencias, costos y distancias es una alternativa efectiva para mitigar los efectos negativos del aislamiento de las especies en parches. Se han estudiado modelos de conectividad ecológica en áreas urbanas, y algunas de las aproximaciones para implementarlos se basan en la identificación de costos y distancias a través de una matriz de resistencias en un ráster, utilizando algoritmos que identifican rutas y cuantifican la distancia mínima y máxima (coste acumulado) entre núcleos previamente seleccionados (Balbi et al., 2020).\n",
        "Algunas especies de Lepidopteros se desplazan por espacios mayores por ende requerirán mayor cobertura boscosa, la variabilidad de las especies arbórea será un factor clave para encontrar especies generalista y especialista (Araque, 2023).\n",
        "Uno de los libros muy completo referentes a script para la librería de Matplotlist es el de Hunter, et al (2017), siendo aptos para generar mapas y visualización de datos de manera general para lo cual muestra ejemplos de como realizar dichos objetos.\n",
        "Shapely es un paquete de Python para la manipulación y análisis de objetos geométricos en el plano cartesiano. Utiliza la biblioteca de geometría de código abierto GEOS (el motor de PostGIS y un port de JTS). Shapely envuelve las geometrías y operaciones de GEOS para proporcionar tanto una interfaz de geometría rica en funciones para geometrías singulares (escalar) como funciones universales de alto rendimiento (ufuncs) de NumPy para operaciones. Shapely no se centra principalmente en los formatos de serialización de datos o sistemas de coordenadas, pero puede integrarse fácilmente con paquetes que sí lo hacen (GeoPandas, 2024).\n",
        "\n",
        "Descripción del Problema\n",
        "Las especies de Mariposas están amenazadas debido a la reducción de hábitats, la perdida de bosque favorecerá a la perdida de especies y comunidades, siendo determinante crear estrategias que vinculen el intercambio genético de las especies.\n",
        "Son pocas las herramientas y artículos científicos existentes para la conectividad ecológica en zonas urbanas, esto no permite priorizar remanentes y programas de reforestación o planificación del uso de la tierra, razón por la cual cada vez se deteriorarán mas estos pequeños reductos de bosques.\n",
        "Crear una herramienta que concientice y permita evaluar posibles corredores en zonas urbanas permitirá mejorar el flujo genético de las especies de mariposas además que no lleguen al peligro de extinción, inclusive no solo ayudara a los insectos también podrá verificar y priorizar posibles áreas de cruce de fauna entre carretera o calles y crear un programa para evitar accidentes, debido a que muchos insectos pueden afectar a motorizados en la via.\n",
        "\n",
        "\n",
        "Objetivos\n",
        "-Evaluar un corredor ecológico para mariposas en zonas urbanas entre Mokoron y Unan, Managua.\n",
        "Objetivos específicos:\n",
        "-Evaluar la composición de los lepidópteros entre las dos áreas.\n",
        "-Realizar"
      ],
      "metadata": {
        "id": "xyWJE3nMoKMB"
      }
    },
    {
      "cell_type": "markdown",
      "source": [],
      "metadata": {
        "id": "pQ3rqlDGodnA"
      }
    },
    {
      "cell_type": "markdown",
      "source": [
        "#se requieren las librerias pandas y matplotlib, las cuales serviran\n",
        "para generar el primer grafico de estadisticas basicas.Se realiza un llamado del excell de la base de datos."
      ],
      "metadata": {
        "id": "ogjBxZ7hoYtA"
      }
    },
    {
      "cell_type": "code",
      "execution_count": 1,
      "metadata": {
        "colab": {
          "base_uri": "https://localhost:8080/",
          "height": 321
        },
        "id": "TtSDPzOFoFgg",
        "outputId": "4f41f2fd-2fa8-4d24-e679-8913cda08197"
      },
      "outputs": [
        {
          "output_type": "error",
          "ename": "FileNotFoundError",
          "evalue": "[Errno 2] No such file or directory: 'C:/Users/Bio.araque/Documents/PAPER - JAIME/ESPECIES.xlsx'",
          "traceback": [
            "\u001b[0;31m---------------------------------------------------------------------------\u001b[0m",
            "\u001b[0;31mFileNotFoundError\u001b[0m                         Traceback (most recent call last)",
            "\u001b[0;32m<ipython-input-1-5714fd09036f>\u001b[0m in \u001b[0;36m<cell line: 6>\u001b[0;34m()\u001b[0m\n\u001b[1;32m      4\u001b[0m \u001b[0;31m# CARGO MI EXCELL\u001b[0m\u001b[0;34m\u001b[0m\u001b[0;34m\u001b[0m\u001b[0m\n\u001b[1;32m      5\u001b[0m \u001b[0mfile_path\u001b[0m \u001b[0;34m=\u001b[0m \u001b[0;34m'C:/Users/Bio.araque/Documents/PAPER - JAIME/ESPECIES.xlsx'\u001b[0m  \u001b[0;31m# Reemplaza con la ruta correcta\u001b[0m\u001b[0;34m\u001b[0m\u001b[0;34m\u001b[0m\u001b[0m\n\u001b[0;32m----> 6\u001b[0;31m \u001b[0mdata\u001b[0m \u001b[0;34m=\u001b[0m \u001b[0mpd\u001b[0m\u001b[0;34m.\u001b[0m\u001b[0mread_excel\u001b[0m\u001b[0;34m(\u001b[0m\u001b[0mfile_path\u001b[0m\u001b[0;34m,\u001b[0m \u001b[0msheet_name\u001b[0m\u001b[0;34m=\u001b[0m\u001b[0;34m'MOKORON'\u001b[0m\u001b[0;34m)\u001b[0m\u001b[0;34m\u001b[0m\u001b[0;34m\u001b[0m\u001b[0m\n\u001b[0m",
            "\u001b[0;32m/usr/local/lib/python3.10/dist-packages/pandas/io/excel/_base.py\u001b[0m in \u001b[0;36mread_excel\u001b[0;34m(io, sheet_name, header, names, index_col, usecols, dtype, engine, converters, true_values, false_values, skiprows, nrows, na_values, keep_default_na, na_filter, verbose, parse_dates, date_parser, date_format, thousands, decimal, comment, skipfooter, storage_options, dtype_backend)\u001b[0m\n\u001b[1;32m    476\u001b[0m     \u001b[0;32mif\u001b[0m \u001b[0;32mnot\u001b[0m \u001b[0misinstance\u001b[0m\u001b[0;34m(\u001b[0m\u001b[0mio\u001b[0m\u001b[0;34m,\u001b[0m \u001b[0mExcelFile\u001b[0m\u001b[0;34m)\u001b[0m\u001b[0;34m:\u001b[0m\u001b[0;34m\u001b[0m\u001b[0;34m\u001b[0m\u001b[0m\n\u001b[1;32m    477\u001b[0m         \u001b[0mshould_close\u001b[0m \u001b[0;34m=\u001b[0m \u001b[0;32mTrue\u001b[0m\u001b[0;34m\u001b[0m\u001b[0;34m\u001b[0m\u001b[0m\n\u001b[0;32m--> 478\u001b[0;31m         \u001b[0mio\u001b[0m \u001b[0;34m=\u001b[0m \u001b[0mExcelFile\u001b[0m\u001b[0;34m(\u001b[0m\u001b[0mio\u001b[0m\u001b[0;34m,\u001b[0m \u001b[0mstorage_options\u001b[0m\u001b[0;34m=\u001b[0m\u001b[0mstorage_options\u001b[0m\u001b[0;34m,\u001b[0m \u001b[0mengine\u001b[0m\u001b[0;34m=\u001b[0m\u001b[0mengine\u001b[0m\u001b[0;34m)\u001b[0m\u001b[0;34m\u001b[0m\u001b[0;34m\u001b[0m\u001b[0m\n\u001b[0m\u001b[1;32m    479\u001b[0m     \u001b[0;32melif\u001b[0m \u001b[0mengine\u001b[0m \u001b[0;32mand\u001b[0m \u001b[0mengine\u001b[0m \u001b[0;34m!=\u001b[0m \u001b[0mio\u001b[0m\u001b[0;34m.\u001b[0m\u001b[0mengine\u001b[0m\u001b[0;34m:\u001b[0m\u001b[0;34m\u001b[0m\u001b[0;34m\u001b[0m\u001b[0m\n\u001b[1;32m    480\u001b[0m         raise ValueError(\n",
            "\u001b[0;32m/usr/local/lib/python3.10/dist-packages/pandas/io/excel/_base.py\u001b[0m in \u001b[0;36m__init__\u001b[0;34m(self, path_or_buffer, engine, storage_options)\u001b[0m\n\u001b[1;32m   1494\u001b[0m                 \u001b[0mext\u001b[0m \u001b[0;34m=\u001b[0m \u001b[0;34m\"xls\"\u001b[0m\u001b[0;34m\u001b[0m\u001b[0;34m\u001b[0m\u001b[0m\n\u001b[1;32m   1495\u001b[0m             \u001b[0;32melse\u001b[0m\u001b[0;34m:\u001b[0m\u001b[0;34m\u001b[0m\u001b[0;34m\u001b[0m\u001b[0m\n\u001b[0;32m-> 1496\u001b[0;31m                 ext = inspect_excel_format(\n\u001b[0m\u001b[1;32m   1497\u001b[0m                     \u001b[0mcontent_or_path\u001b[0m\u001b[0;34m=\u001b[0m\u001b[0mpath_or_buffer\u001b[0m\u001b[0;34m,\u001b[0m \u001b[0mstorage_options\u001b[0m\u001b[0;34m=\u001b[0m\u001b[0mstorage_options\u001b[0m\u001b[0;34m\u001b[0m\u001b[0;34m\u001b[0m\u001b[0m\n\u001b[1;32m   1498\u001b[0m                 )\n",
            "\u001b[0;32m/usr/local/lib/python3.10/dist-packages/pandas/io/excel/_base.py\u001b[0m in \u001b[0;36minspect_excel_format\u001b[0;34m(content_or_path, storage_options)\u001b[0m\n\u001b[1;32m   1369\u001b[0m         \u001b[0mcontent_or_path\u001b[0m \u001b[0;34m=\u001b[0m \u001b[0mBytesIO\u001b[0m\u001b[0;34m(\u001b[0m\u001b[0mcontent_or_path\u001b[0m\u001b[0;34m)\u001b[0m\u001b[0;34m\u001b[0m\u001b[0;34m\u001b[0m\u001b[0m\n\u001b[1;32m   1370\u001b[0m \u001b[0;34m\u001b[0m\u001b[0m\n\u001b[0;32m-> 1371\u001b[0;31m     with get_handle(\n\u001b[0m\u001b[1;32m   1372\u001b[0m         \u001b[0mcontent_or_path\u001b[0m\u001b[0;34m,\u001b[0m \u001b[0;34m\"rb\"\u001b[0m\u001b[0;34m,\u001b[0m \u001b[0mstorage_options\u001b[0m\u001b[0;34m=\u001b[0m\u001b[0mstorage_options\u001b[0m\u001b[0;34m,\u001b[0m \u001b[0mis_text\u001b[0m\u001b[0;34m=\u001b[0m\u001b[0;32mFalse\u001b[0m\u001b[0;34m\u001b[0m\u001b[0;34m\u001b[0m\u001b[0m\n\u001b[1;32m   1373\u001b[0m     ) as handle:\n",
            "\u001b[0;32m/usr/local/lib/python3.10/dist-packages/pandas/io/common.py\u001b[0m in \u001b[0;36mget_handle\u001b[0;34m(path_or_buf, mode, encoding, compression, memory_map, is_text, errors, storage_options)\u001b[0m\n\u001b[1;32m    866\u001b[0m         \u001b[0;32melse\u001b[0m\u001b[0;34m:\u001b[0m\u001b[0;34m\u001b[0m\u001b[0;34m\u001b[0m\u001b[0m\n\u001b[1;32m    867\u001b[0m             \u001b[0;31m# Binary mode\u001b[0m\u001b[0;34m\u001b[0m\u001b[0;34m\u001b[0m\u001b[0m\n\u001b[0;32m--> 868\u001b[0;31m             \u001b[0mhandle\u001b[0m \u001b[0;34m=\u001b[0m \u001b[0mopen\u001b[0m\u001b[0;34m(\u001b[0m\u001b[0mhandle\u001b[0m\u001b[0;34m,\u001b[0m \u001b[0mioargs\u001b[0m\u001b[0;34m.\u001b[0m\u001b[0mmode\u001b[0m\u001b[0;34m)\u001b[0m\u001b[0;34m\u001b[0m\u001b[0;34m\u001b[0m\u001b[0m\n\u001b[0m\u001b[1;32m    869\u001b[0m         \u001b[0mhandles\u001b[0m\u001b[0;34m.\u001b[0m\u001b[0mappend\u001b[0m\u001b[0;34m(\u001b[0m\u001b[0mhandle\u001b[0m\u001b[0;34m)\u001b[0m\u001b[0;34m\u001b[0m\u001b[0;34m\u001b[0m\u001b[0m\n\u001b[1;32m    870\u001b[0m \u001b[0;34m\u001b[0m\u001b[0m\n",
            "\u001b[0;31mFileNotFoundError\u001b[0m: [Errno 2] No such file or directory: 'C:/Users/Bio.araque/Documents/PAPER - JAIME/ESPECIES.xlsx'"
          ]
        }
      ],
      "source": [
        "import pandas as pd\n",
        "import matplotlib.pyplot as plt\n",
        "\n",
        "# CARGO MI EXCELL\n",
        "file_path = 'C:/Users/Bio.araque/Documents/PAPER - JAIME/ESPECIES.xlsx'  # Reemplaza con la ruta correcta\n",
        "data = pd.read_excel(file_path, sheet_name='MOKORON')"
      ]
    },
    {
      "cell_type": "code",
      "source": [
        "# Filtrar datos por áreas\n",
        "MOKORON = data[data['AREA'] == 'MOKORON']\n",
        "UNAN = data[data['AREA'] == 'UNAN']\n",
        "\n",
        "# Trampas colocadas\n",
        "TRAMPAS = ['TRAMPA 1', 'TRAMPA 2', 'TRAMPA 3', 'TRAMPA 4', 'TRAMPA 5', 'TRAMPA 6', 'TRAMPA 7']\n",
        "\n",
        "# Estadísticas generales para MOKORON\n",
        "stats_mokoron = MOKORON[TRAMPAS].describe().transpose()\n",
        "\n",
        "# Estadísticas generales para UNAN\n",
        "stats_unan = UNAN[TRAMPAS].describe().transpose()\n",
        "\n",
        "# Crear gráficos de boxplot para comparar las estadísticas\n",
        "fig, ax = plt.subplots(2, 1, figsize=(10, 12))\n",
        "\n",
        "# Gráfico de boxplot para MOKORON\n",
        "ax[0].boxplot(MOKORON[TRAMPAS].values, labels=TRAMPAS, showmeans=True, meanline=True)\n",
        "ax[0].set_title('Capturas por Trampa - MOKORON')\n",
        "ax[0].set_xlabel('Trampa')\n",
        "ax[0].set_ylabel('Capturas')\n",
        "ax[0].grid(axis='y')\n",
        "\n",
        "# Gráfico de boxplot para UNAN\n",
        "ax[1].boxplot(UNAN[TRAMPAS].values, labels=TRAMPAS, showmeans=True, meanline=True, patch_artist=True, boxprops=dict(facecolor='lightgreen', color='black'), whiskerprops=dict(color='black'), medianprops=dict(color='black'))\n",
        "ax[1].set_title('Capturas por Trampa - UNAN')\n",
        "ax[1].set_xlabel('Trampa')\n",
        "ax[1].set_ylabel('Capturas')\n",
        "ax[1].grid(axis='y')\n",
        "\n",
        "plt.tight_layout()\n",
        "plt.show()\n",
        "\n",
        "# Mostrar estadísticas generales\n",
        "print(\"Estadísticas generales para MOKORON:\")\n",
        "print(stats_mokoron)\n",
        "print(\"\\nEstadísticas generales para UNAN:\")\n",
        "print(stats_unan)\n"
      ],
      "metadata": {
        "id": "pbCImJ7-oR35"
      },
      "execution_count": null,
      "outputs": []
    },
    {
      "cell_type": "markdown",
      "source": [
        "#SE HA UTILIZADO EL PAQUE DE GEOPANDAS PERO CON LA EXTENSION DE SHAPELY\n",
        "#CON LA INTENCION DE MANIPULAR Y VISUALIZAR MEJOR LOS DATOS (GeoPandas, 2024)"
      ],
      "metadata": {
        "id": "e6RLY_eGo1h9"
      }
    },
    {
      "cell_type": "code",
      "source": [
        "pip install geopandas shapely rasterio"
      ],
      "metadata": {
        "id": "gZWrxB0Toy9i"
      },
      "execution_count": null,
      "outputs": []
    },
    {
      "cell_type": "code",
      "source": [
        "import geopandas as gpd\n",
        "import matplotlib.pyplot as plt\n",
        "\n",
        "MANAGUA = r'C:\\Users\\Bio.araque\\Documents\\PAPER - JAIME\\modelos-mokoton\\managua.shp'\n",
        "MAN = gpd.read_file(MANAGUA) #decidi colocar MAN COMO MANAGUA\n",
        "\n",
        "# Visualizar managua en shape\n",
        "MAN.plot()"
      ],
      "metadata": {
        "id": "qPpaquJxo4jF"
      },
      "execution_count": null,
      "outputs": []
    },
    {
      "cell_type": "code",
      "source": [
        "# Cargar el shapefile\n",
        "shapefile_path = r'C:\\Users\\Bio.araque\\Documents\\PAPER - JAIME\\modelos-mokoton\\UNAN.shp'\n",
        "UNAN = gpd.read_file(shapefile_path)\n",
        "\n",
        "# Visualizar el shapefile con color y etiquetas\n",
        "fig, ax = plt.subplots(figsize=(5, 5))\n",
        "UNAN.plot(ax=ax, color='green', edgecolor='black')\n",
        "plt.show()"
      ],
      "metadata": {
        "id": "4b7GHIato6ft"
      },
      "execution_count": null,
      "outputs": []
    },
    {
      "cell_type": "code",
      "source": [
        "import rasterio\n",
        "from rasterio.plot import show\n",
        "import matplotlib.pyplot as plt\n",
        "import matplotlib.colors as mcolors\n",
        "\n",
        "# Cargar el shapefile de Calles\n",
        "shape_calles = r'C:\\Users\\Bio.araque\\Documents\\PAPER - JAIME\\modelos-mokoton\\Calles.shp'\n",
        "CALLES = gpd.read_file(shape_calles)\n",
        "\n",
        "# Cargar el shapefile de Calles\n",
        "shape_nodos = r'C:\\Users\\Bio.araque\\Documents\\PAPER - JAIME\\modelos-mokoton\\NODOS1.shp'\n",
        "NODOS = gpd.read_file(shape_nodos)\n",
        "\n",
        "# Cargar el shapefile de UNAN\n",
        "shape_unan = r'C:\\Users\\Bio.araque\\Documents\\PAPER - JAIME\\modelos-mokoton\\UNAN.shp'\n",
        "UNAN = gpd.read_file(shape_unan)\n",
        "\n",
        "# Cargar el raster\n",
        "CONECTIVIDAD = r'C:\\Users\\Bio.araque\\Documents\\PAPER - JAIME\\modelos-mokoton\\UNION CORREDOR.tif'\n",
        "raster = rasterio.open(CONECTIVIDAD)\n",
        "\n",
        "# Crear una figura y un conjunto de ejes\n",
        "fig, ax = plt.subplots(figsize=(10, 10))\n",
        "\n",
        "# Configurar colores y opacidades para el raster\n",
        "cmap_raster = 'turbo'\n",
        "alpha = 0.7\n",
        "\n",
        "# Mostrar el raster con colormap Turbo\n",
        "show(raster, ax=ax, cmap=cmap_raster, alpha=alpha, transform=ax.transData)\n",
        "\n",
        "# Visualizar los shapefiles\n",
        "CALLES.plot(ax=ax, color='black', edgecolor='black', linewidth=2, label='Calles')\n",
        "UNAN.plot(ax=ax, color='black', edgecolor='black', linewidth=1, alpha= 0.5, label='UNAN')\n",
        "NODOS.plot(ax=ax, color='Green', edgecolor='black', linewidth=1, alpha= 0.5, label='UNAN')\n",
        "\n",
        "# Añadir leyenda del raster\n",
        "cbar = fig.colorbar(ax.collections[1], ax=ax, orientation='vertical', fraction=0.046, pad=0.04)\n",
        "cbar.set_label('Valor Raster')\n",
        "\n",
        "# Ajustar título y etiquetas de los ejes\n",
        "plt.title(\"Conectividad por medio de Circuitos y Nodos\")\n",
        "plt.xlabel(\"Longitud\")\n",
        "plt.ylabel(\"Latitud\")\n",
        "\n",
        "# Mostrar el plot\n",
        "plt.show()\n"
      ],
      "metadata": {
        "id": "Cc5gV1Pjo_LM"
      },
      "execution_count": null,
      "outputs": []
    }
  ]
}
