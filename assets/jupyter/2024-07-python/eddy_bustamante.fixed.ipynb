{
  "nbformat": 4,
  "nbformat_minor": 0,
  "metadata": {
    "colab": {
      "provenance": []
    },
    "kernelspec": {
      "name": "python3",
      "display_name": "Python 3"
    },
    "language_info": {
      "name": "python"
    }
  },
  "cells": [
    {
      "cell_type": "markdown",
      "source": [
        "# **Análisis Exploratorio de los anfibios en Panamá de acuerdo a su estado de conservación**\n",
        "\n",
        " Integrantes\n",
        "\n",
        "\n",
        ">  1. Bustamante Eddy\n",
        ">  2. Cardenas Christofher\n",
        ">  3. McDonald Lisseth\n",
        "\n",
        "---"
      ],
      "metadata": {
        "id": "d0UVLemV8Bce"
      }
    },
    {
      "cell_type": "markdown",
      "source": [
        "# **1. Descripción del proyecto y justificación**\n",
        "\n",
        "# 1. Descripción del proyecto\n",
        "\n",
        "El proyecto tiene como propósito realizar un análisis exhaustivo de las especies de anfibios en Panamá, evaluando su estado de conservación de acuerdo con los datos presentados de iNaturalist y otras entidades que se encargan de conservar estas especies.  Panamá por ser uno de los países con mayor diversidad biológica en el mundo, alberga una gran cantidad de especies de anfibios que enfrentan diferentes amenazas como el cambio climático, la pérdida de su hábitat y otros factores que afecten a estas especies.\n",
        "Este análisis se centrará en explorar los datos obtenidos sobre las especies de anfibios presentes en el país, clasificándolo según su estado de conservación y así por medio de este estudio, buscaremos identificar tendencias en la vulnerabilidad de las especies, las principales amenazas que enfrentan y las áreas geográficas de Panamá donde hay mayor concentración de estas especies.\n",
        "\n",
        "En general, este análisis tiene como principal fin ofrecer la información critica para la toma de decisiones en políticas de conservación y gestión ambiental, con el objetivo de proteger y preservar las especies de anfibios que son vitales para el equilibrio de los ecosistemas en Panamá.\n",
        "\n",
        "---"
      ],
      "metadata": {
        "id": "MXvdfd0oa_y_"
      }
    },
    {
      "cell_type": "markdown",
      "source": [
        "### Justificación\n",
        "\n",
        "Los anfibios son considerados como indicadores clave de la salud de los ecosistemas debido a su sensibilidad a cambios ambientales. En Panamá, la rica diversidad de anfibios enfrenta múltiples amenazas que han llevado a muchas especies a estar en peligro de extinción.\n",
        "El proyecto es esencial debido a que, a pesar de la creciente preocupación por la conservación de los anfibios, existe una necesidad urgente de un análisis integral que examine el estado de la conservación de las especies presentes en Panamá. Sin una evaluación sistemática y basada en datos actualizados, los esfuerzos de conservar y restaurar a estas especies podrían estar mal dirigidos o ser insuficiente y no solo eso, si no que muchos de los estudios disponibles están dispersos o no abarcan completamente las particularidades geográficas y ecológicas del país."
      ],
      "metadata": {
        "id": "V9Uif40g_4jP"
      }
    },
    {
      "cell_type": "markdown",
      "source": [
        "# **2. Antecedentes**\n",
        "\n",
        "# **2. Antecedentes**\n",
        "\n",
        "Los anfibios desempeñan funciones esenciales para los ecosistemas: transfieren nutrientes de medios acuáticos a terrestres y controlan las plagas de insectos; sin anfibios, se incrementaría la transmisión de enfermedades como malaria, dengue y fiebre amarilla. (Alonso, 2023)\n",
        "\n",
        "Es por esto, que el mismo autor nos dice que un anfibio es un animal vertebrado. Su nombre proviene del griego ampi “ambos” y bios “vida”, porque una fase de su existencia transcurre en el agua y otra en la tierra. Estas especies existen desde hace 370 millones de años. Existen varios grupos con diferentes formas de vida, fisiología y rasgos morfológicos como las ranas, sapos, salamandras y cecílidos.\n",
        "\n",
        "En un estudio realizado por (Aguirre, Edgardo, & Sosa-Batuarno, 2024) nos dicen que actualmente debido al incremento de asentamiento humanos, calentamiento global y fragmentación, las poblaciones de anfibios se ven limitadas, reduciendo la complejidad del hábitat y la existencia microhábitats.\n",
        "\n",
        "En Panamá existen estudios acerca de las riquezas, abundancia y estado de conservación de los anfibios en el Lago Gatún, para este estudio se utilizó el método de observación directa para el registro de los individuos y el uso de claves taxonómicas para la identificación de especies. En este estudio se registraron 575 individuos en 12 especies y 8 familias. (Contreras, Voitier, Walter-Conrado, & Sosa-Batuarno, 2023)\n",
        "\n",
        "Los autores nos dicen que el área de estudio representa un sitio interesante para estudios sobre diversidad y conservación de recursos naturales ya que forma parte del corredor interoceánico de Panamá ya que posee una extensión de 357.68 hectáreas y un recurso hídrico representado por el Lago Gatún.\n",
        "\n",
        "En Panamá se reportan 234 especie de anfibios, distribuidas en 11 Gyomnophiona, 35 Caudata y el grupo de los anuros con 188. (Quiroz, Miranda, & Batista, 2020) Con esto Panamá se destaca por ser un país diverso, después de México y con muchas especies más por percibir.\n",
        "\n",
        "---"
      ],
      "metadata": {
        "id": "LoKMLIfWbXNF"
      }
    },
    {
      "cell_type": "markdown",
      "source": [
        "# **3. Descripción del problema y el objetivo**\n",
        "\n",
        "\n",
        "En las últimas décadas, las poblaciones de anfibios en Panamá han experimentado un alarmante declive debido a múltiples amenazas, lo que ha colocado a muchas especies en riesgo de extinción.\n",
        "\n",
        "El problema radica en que, sin un diagnóstico claro del estado de conservación de los anfibios, las estrategias de protección no se pueden enfocar adecuadamente en las especies y áreas que más lo necesitan. A medida que los ecosistemas continúan degradándose y las especies siguen desapareciendo, es crucial contar con datos que permitan identificar las especies más vulnerables, comprender las amenazas específicas que enfrentan, y actuar antes de que las poblaciones de anfibios se reduzcan de manera irreversible.\n",
        "\n",
        "### **Objetivo**\n",
        "\n",
        "* Identificar las especies de anfibios presentes en Panamá y clasificarlas según su estado de conservación, con el fin de determinar las zonas con mayor avistamiento de anfibios y evaluar las áreas críticas para la conservación de las especies en peligro."
      ],
      "metadata": {
        "id": "niggQJ-7by_5"
      }
    },
    {
      "cell_type": "markdown",
      "source": [
        "---\n",
        "---\n",
        "# 4. Desarrollo e Implementación\n",
        "\n",
        "\n",
        "\n"
      ],
      "metadata": {
        "id": "qhTK6eA-c4RQ"
      }
    },
    {
      "cell_type": "markdown",
      "source": [
        "## 4.1. Preprocesamiento"
      ],
      "metadata": {
        "id": "0m8IdxNudpcG"
      }
    },
    {
      "cell_type": "code",
      "source": [
        "# Importar geopandas y geodatasets\n",
        "!pip install numpy\n",
        "!pip install pandas\n",
        "!pip install seaborn\n",
        "!pip install scikit-learn\n",
        "!pip install matplotlib\n",
        "!pip install geodatasets\n",
        "!pip install ydata-profiling"
      ],
      "metadata": {
        "colab": {
          "base_uri": "https://localhost:8080/"
        },
        "id": "509MNfs8WuTs",
        "outputId": "9d34f96b-c90b-45a2-f89a-dc6258554907"
      },
      "execution_count": null,
      "outputs": [
        {
          "output_type": "stream",
          "name": "stdout",
          "text": [
            "Requirement already satisfied: numpy in /usr/local/lib/python3.10/dist-packages (1.26.4)\n",
            "Requirement already satisfied: pandas in /usr/local/lib/python3.10/dist-packages (2.2.2)\n",
            "Requirement already satisfied: numpy>=1.22.4 in /usr/local/lib/python3.10/dist-packages (from pandas) (1.26.4)\n",
            "Requirement already satisfied: python-dateutil>=2.8.2 in /usr/local/lib/python3.10/dist-packages (from pandas) (2.8.2)\n",
            "Requirement already satisfied: pytz>=2020.1 in /usr/local/lib/python3.10/dist-packages (from pandas) (2024.2)\n",
            "Requirement already satisfied: tzdata>=2022.7 in /usr/local/lib/python3.10/dist-packages (from pandas) (2024.2)\n",
            "Requirement already satisfied: six>=1.5 in /usr/local/lib/python3.10/dist-packages (from python-dateutil>=2.8.2->pandas) (1.16.0)\n",
            "Requirement already satisfied: seaborn in /usr/local/lib/python3.10/dist-packages (0.13.2)\n",
            "Requirement already satisfied: numpy!=1.24.0,>=1.20 in /usr/local/lib/python3.10/dist-packages (from seaborn) (1.26.4)\n",
            "Requirement already satisfied: pandas>=1.2 in /usr/local/lib/python3.10/dist-packages (from seaborn) (2.2.2)\n",
            "Requirement already satisfied: matplotlib!=3.6.1,>=3.4 in /usr/local/lib/python3.10/dist-packages (from seaborn) (3.8.0)\n",
            "Requirement already satisfied: contourpy>=1.0.1 in /usr/local/lib/python3.10/dist-packages (from matplotlib!=3.6.1,>=3.4->seaborn) (1.3.1)\n",
            "Requirement already satisfied: cycler>=0.10 in /usr/local/lib/python3.10/dist-packages (from matplotlib!=3.6.1,>=3.4->seaborn) (0.12.1)\n",
            "Requirement already satisfied: fonttools>=4.22.0 in /usr/local/lib/python3.10/dist-packages (from matplotlib!=3.6.1,>=3.4->seaborn) (4.55.0)\n",
            "Requirement already satisfied: kiwisolver>=1.0.1 in /usr/local/lib/python3.10/dist-packages (from matplotlib!=3.6.1,>=3.4->seaborn) (1.4.7)\n",
            "Requirement already satisfied: packaging>=20.0 in /usr/local/lib/python3.10/dist-packages (from matplotlib!=3.6.1,>=3.4->seaborn) (24.2)\n",
            "Requirement already satisfied: pillow>=6.2.0 in /usr/local/lib/python3.10/dist-packages (from matplotlib!=3.6.1,>=3.4->seaborn) (11.0.0)\n",
            "Requirement already satisfied: pyparsing>=2.3.1 in /usr/local/lib/python3.10/dist-packages (from matplotlib!=3.6.1,>=3.4->seaborn) (3.2.0)\n",
            "Requirement already satisfied: python-dateutil>=2.7 in /usr/local/lib/python3.10/dist-packages (from matplotlib!=3.6.1,>=3.4->seaborn) (2.8.2)\n",
            "Requirement already satisfied: pytz>=2020.1 in /usr/local/lib/python3.10/dist-packages (from pandas>=1.2->seaborn) (2024.2)\n",
            "Requirement already satisfied: tzdata>=2022.7 in /usr/local/lib/python3.10/dist-packages (from pandas>=1.2->seaborn) (2024.2)\n",
            "Requirement already satisfied: six>=1.5 in /usr/local/lib/python3.10/dist-packages (from python-dateutil>=2.7->matplotlib!=3.6.1,>=3.4->seaborn) (1.16.0)\n",
            "Requirement already satisfied: scikit-learn in /usr/local/lib/python3.10/dist-packages (1.5.2)\n",
            "Requirement already satisfied: numpy>=1.19.5 in /usr/local/lib/python3.10/dist-packages (from scikit-learn) (1.26.4)\n",
            "Requirement already satisfied: scipy>=1.6.0 in /usr/local/lib/python3.10/dist-packages (from scikit-learn) (1.13.1)\n",
            "Requirement already satisfied: joblib>=1.2.0 in /usr/local/lib/python3.10/dist-packages (from scikit-learn) (1.4.2)\n",
            "Requirement already satisfied: threadpoolctl>=3.1.0 in /usr/local/lib/python3.10/dist-packages (from scikit-learn) (3.5.0)\n",
            "Requirement already satisfied: matplotlib in /usr/local/lib/python3.10/dist-packages (3.8.0)\n",
            "Requirement already satisfied: contourpy>=1.0.1 in /usr/local/lib/python3.10/dist-packages (from matplotlib) (1.3.1)\n",
            "Requirement already satisfied: cycler>=0.10 in /usr/local/lib/python3.10/dist-packages (from matplotlib) (0.12.1)\n",
            "Requirement already satisfied: fonttools>=4.22.0 in /usr/local/lib/python3.10/dist-packages (from matplotlib) (4.55.0)\n",
            "Requirement already satisfied: kiwisolver>=1.0.1 in /usr/local/lib/python3.10/dist-packages (from matplotlib) (1.4.7)\n",
            "Requirement already satisfied: numpy<2,>=1.21 in /usr/local/lib/python3.10/dist-packages (from matplotlib) (1.26.4)\n",
            "Requirement already satisfied: packaging>=20.0 in /usr/local/lib/python3.10/dist-packages (from matplotlib) (24.2)\n",
            "Requirement already satisfied: pillow>=6.2.0 in /usr/local/lib/python3.10/dist-packages (from matplotlib) (11.0.0)\n",
            "Requirement already satisfied: pyparsing>=2.3.1 in /usr/local/lib/python3.10/dist-packages (from matplotlib) (3.2.0)\n",
            "Requirement already satisfied: python-dateutil>=2.7 in /usr/local/lib/python3.10/dist-packages (from matplotlib) (2.8.2)\n",
            "Requirement already satisfied: six>=1.5 in /usr/local/lib/python3.10/dist-packages (from python-dateutil>=2.7->matplotlib) (1.16.0)\n",
            "Collecting geodatasets\n",
            "  Downloading geodatasets-2024.8.0-py3-none-any.whl.metadata (5.4 kB)\n",
            "Requirement already satisfied: pooch in /usr/local/lib/python3.10/dist-packages (from geodatasets) (1.8.2)\n",
            "Requirement already satisfied: platformdirs>=2.5.0 in /usr/local/lib/python3.10/dist-packages (from pooch->geodatasets) (4.3.6)\n",
            "Requirement already satisfied: packaging>=20.0 in /usr/local/lib/python3.10/dist-packages (from pooch->geodatasets) (24.2)\n",
            "Requirement already satisfied: requests>=2.19.0 in /usr/local/lib/python3.10/dist-packages (from pooch->geodatasets) (2.32.3)\n",
            "Requirement already satisfied: charset-normalizer<4,>=2 in /usr/local/lib/python3.10/dist-packages (from requests>=2.19.0->pooch->geodatasets) (3.4.0)\n",
            "Requirement already satisfied: idna<4,>=2.5 in /usr/local/lib/python3.10/dist-packages (from requests>=2.19.0->pooch->geodatasets) (3.10)\n",
            "Requirement already satisfied: urllib3<3,>=1.21.1 in /usr/local/lib/python3.10/dist-packages (from requests>=2.19.0->pooch->geodatasets) (2.2.3)\n",
            "Requirement already satisfied: certifi>=2017.4.17 in /usr/local/lib/python3.10/dist-packages (from requests>=2.19.0->pooch->geodatasets) (2024.8.30)\n",
            "Downloading geodatasets-2024.8.0-py3-none-any.whl (20 kB)\n",
            "Installing collected packages: geodatasets\n",
            "Successfully installed geodatasets-2024.8.0\n",
            "Collecting ydata-profiling\n",
            "  Downloading ydata_profiling-4.12.0-py2.py3-none-any.whl.metadata (20 kB)\n",
            "Requirement already satisfied: scipy<1.14,>=1.4.1 in /usr/local/lib/python3.10/dist-packages (from ydata-profiling) (1.13.1)\n",
            "Requirement already satisfied: pandas!=1.4.0,<3,>1.1 in /usr/local/lib/python3.10/dist-packages (from ydata-profiling) (2.2.2)\n",
            "Requirement already satisfied: matplotlib<3.10,>=3.5 in /usr/local/lib/python3.10/dist-packages (from ydata-profiling) (3.8.0)\n",
            "Requirement already satisfied: pydantic>=2 in /usr/local/lib/python3.10/dist-packages (from ydata-profiling) (2.9.2)\n",
            "Requirement already satisfied: PyYAML<6.1,>=5.0.0 in /usr/local/lib/python3.10/dist-packages (from ydata-profiling) (6.0.2)\n",
            "Requirement already satisfied: jinja2<3.2,>=2.11.1 in /usr/local/lib/python3.10/dist-packages (from ydata-profiling) (3.1.4)\n",
            "Collecting visions<0.7.7,>=0.7.5 (from visions[type_image_path]<0.7.7,>=0.7.5->ydata-profiling)\n",
            "  Downloading visions-0.7.6-py3-none-any.whl.metadata (11 kB)\n",
            "Requirement already satisfied: numpy<2.2,>=1.16.0 in /usr/local/lib/python3.10/dist-packages (from ydata-profiling) (1.26.4)\n",
            "Collecting htmlmin==0.1.12 (from ydata-profiling)\n",
            "  Downloading htmlmin-0.1.12.tar.gz (19 kB)\n",
            "  Preparing metadata (setup.py) ... \u001b[?25l\u001b[?25hdone\n",
            "Collecting phik<0.13,>=0.11.1 (from ydata-profiling)\n",
            "  Downloading phik-0.12.4-cp310-cp310-manylinux_2_17_x86_64.manylinux2014_x86_64.whl.metadata (5.6 kB)\n",
            "Requirement already satisfied: requests<3,>=2.24.0 in /usr/local/lib/python3.10/dist-packages (from ydata-profiling) (2.32.3)\n",
            "Requirement already satisfied: tqdm<5,>=4.48.2 in /usr/local/lib/python3.10/dist-packages (from ydata-profiling) (4.66.6)\n",
            "Requirement already satisfied: seaborn<0.14,>=0.10.1 in /usr/local/lib/python3.10/dist-packages (from ydata-profiling) (0.13.2)\n",
            "Collecting multimethod<2,>=1.4 (from ydata-profiling)\n",
            "  Downloading multimethod-1.12-py3-none-any.whl.metadata (9.6 kB)\n",
            "Requirement already satisfied: statsmodels<1,>=0.13.2 in /usr/local/lib/python3.10/dist-packages (from ydata-profiling) (0.14.4)\n",
            "Requirement already satisfied: typeguard<5,>=3 in /usr/local/lib/python3.10/dist-packages (from ydata-profiling) (4.4.1)\n",
            "Collecting imagehash==4.3.1 (from ydata-profiling)\n",
            "  Downloading ImageHash-4.3.1-py2.py3-none-any.whl.metadata (8.0 kB)\n",
            "Requirement already satisfied: wordcloud>=1.9.3 in /usr/local/lib/python3.10/dist-packages (from ydata-profiling) (1.9.4)\n",
            "Collecting dacite>=1.8 (from ydata-profiling)\n",
            "  Downloading dacite-1.8.1-py3-none-any.whl.metadata (15 kB)\n",
            "Requirement already satisfied: numba<1,>=0.56.0 in /usr/local/lib/python3.10/dist-packages (from ydata-profiling) (0.60.0)\n",
            "Collecting PyWavelets (from imagehash==4.3.1->ydata-profiling)\n",
            "  Downloading pywavelets-1.7.0-cp310-cp310-manylinux_2_17_x86_64.manylinux2014_x86_64.whl.metadata (9.0 kB)\n",
            "Requirement already satisfied: pillow in /usr/local/lib/python3.10/dist-packages (from imagehash==4.3.1->ydata-profiling) (11.0.0)\n",
            "Requirement already satisfied: MarkupSafe>=2.0 in /usr/local/lib/python3.10/dist-packages (from jinja2<3.2,>=2.11.1->ydata-profiling) (3.0.2)\n",
            "Requirement already satisfied: contourpy>=1.0.1 in /usr/local/lib/python3.10/dist-packages (from matplotlib<3.10,>=3.5->ydata-profiling) (1.3.1)\n",
            "Requirement already satisfied: cycler>=0.10 in /usr/local/lib/python3.10/dist-packages (from matplotlib<3.10,>=3.5->ydata-profiling) (0.12.1)\n",
            "Requirement already satisfied: fonttools>=4.22.0 in /usr/local/lib/python3.10/dist-packages (from matplotlib<3.10,>=3.5->ydata-profiling) (4.55.0)\n",
            "Requirement already satisfied: kiwisolver>=1.0.1 in /usr/local/lib/python3.10/dist-packages (from matplotlib<3.10,>=3.5->ydata-profiling) (1.4.7)\n",
            "Requirement already satisfied: packaging>=20.0 in /usr/local/lib/python3.10/dist-packages (from matplotlib<3.10,>=3.5->ydata-profiling) (24.2)\n",
            "Requirement already satisfied: pyparsing>=2.3.1 in /usr/local/lib/python3.10/dist-packages (from matplotlib<3.10,>=3.5->ydata-profiling) (3.2.0)\n",
            "Requirement already satisfied: python-dateutil>=2.7 in /usr/local/lib/python3.10/dist-packages (from matplotlib<3.10,>=3.5->ydata-profiling) (2.8.2)\n",
            "Requirement already satisfied: llvmlite<0.44,>=0.43.0dev0 in /usr/local/lib/python3.10/dist-packages (from numba<1,>=0.56.0->ydata-profiling) (0.43.0)\n",
            "Requirement already satisfied: pytz>=2020.1 in /usr/local/lib/python3.10/dist-packages (from pandas!=1.4.0,<3,>1.1->ydata-profiling) (2024.2)\n",
            "Requirement already satisfied: tzdata>=2022.7 in /usr/local/lib/python3.10/dist-packages (from pandas!=1.4.0,<3,>1.1->ydata-profiling) (2024.2)\n",
            "Requirement already satisfied: joblib>=0.14.1 in /usr/local/lib/python3.10/dist-packages (from phik<0.13,>=0.11.1->ydata-profiling) (1.4.2)\n",
            "Requirement already satisfied: annotated-types>=0.6.0 in /usr/local/lib/python3.10/dist-packages (from pydantic>=2->ydata-profiling) (0.7.0)\n",
            "Requirement already satisfied: pydantic-core==2.23.4 in /usr/local/lib/python3.10/dist-packages (from pydantic>=2->ydata-profiling) (2.23.4)\n",
            "Requirement already satisfied: typing-extensions>=4.6.1 in /usr/local/lib/python3.10/dist-packages (from pydantic>=2->ydata-profiling) (4.12.2)\n",
            "Requirement already satisfied: charset-normalizer<4,>=2 in /usr/local/lib/python3.10/dist-packages (from requests<3,>=2.24.0->ydata-profiling) (3.4.0)\n",
            "Requirement already satisfied: idna<4,>=2.5 in /usr/local/lib/python3.10/dist-packages (from requests<3,>=2.24.0->ydata-profiling) (3.10)\n",
            "Requirement already satisfied: urllib3<3,>=1.21.1 in /usr/local/lib/python3.10/dist-packages (from requests<3,>=2.24.0->ydata-profiling) (2.2.3)\n",
            "Requirement already satisfied: certifi>=2017.4.17 in /usr/local/lib/python3.10/dist-packages (from requests<3,>=2.24.0->ydata-profiling) (2024.8.30)\n",
            "Requirement already satisfied: patsy>=0.5.6 in /usr/local/lib/python3.10/dist-packages (from statsmodels<1,>=0.13.2->ydata-profiling) (1.0.1)\n",
            "Requirement already satisfied: attrs>=19.3.0 in /usr/local/lib/python3.10/dist-packages (from visions<0.7.7,>=0.7.5->visions[type_image_path]<0.7.7,>=0.7.5->ydata-profiling) (24.2.0)\n",
            "Requirement already satisfied: networkx>=2.4 in /usr/local/lib/python3.10/dist-packages (from visions<0.7.7,>=0.7.5->visions[type_image_path]<0.7.7,>=0.7.5->ydata-profiling) (3.4.2)\n",
            "Requirement already satisfied: six>=1.5 in /usr/local/lib/python3.10/dist-packages (from python-dateutil>=2.7->matplotlib<3.10,>=3.5->ydata-profiling) (1.16.0)\n",
            "Downloading ydata_profiling-4.12.0-py2.py3-none-any.whl (390 kB)\n",
            "\u001b[2K   \u001b[90m━━━━━━━━━━━━━━━━━━━━━━━━━━━━━━━━━━━━━━━━\u001b[0m \u001b[32m390.6/390.6 kB\u001b[0m \u001b[31m8.0 MB/s\u001b[0m eta \u001b[36m0:00:00\u001b[0m\n",
            "\u001b[?25hDownloading ImageHash-4.3.1-py2.py3-none-any.whl (296 kB)\n",
            "\u001b[2K   \u001b[90m━━━━━━━━━━━━━━━━━━━━━━━━━━━━━━━━━━━━━━━━\u001b[0m \u001b[32m296.5/296.5 kB\u001b[0m \u001b[31m21.1 MB/s\u001b[0m eta \u001b[36m0:00:00\u001b[0m\n",
            "\u001b[?25hDownloading dacite-1.8.1-py3-none-any.whl (14 kB)\n",
            "Downloading multimethod-1.12-py3-none-any.whl (10 kB)\n",
            "Downloading phik-0.12.4-cp310-cp310-manylinux_2_17_x86_64.manylinux2014_x86_64.whl (686 kB)\n",
            "\u001b[2K   \u001b[90m━━━━━━━━━━━━━━━━━━━━━━━━━━━━━━━━━━━━━━━━\u001b[0m \u001b[32m686.1/686.1 kB\u001b[0m \u001b[31m30.5 MB/s\u001b[0m eta \u001b[36m0:00:00\u001b[0m\n",
            "\u001b[?25hDownloading visions-0.7.6-py3-none-any.whl (104 kB)\n",
            "\u001b[2K   \u001b[90m━━━━━━━━━━━━━━━━━━━━━━━━━━━━━━━━━━━━━━━━\u001b[0m \u001b[32m104.8/104.8 kB\u001b[0m \u001b[31m8.0 MB/s\u001b[0m eta \u001b[36m0:00:00\u001b[0m\n",
            "\u001b[?25hDownloading pywavelets-1.7.0-cp310-cp310-manylinux_2_17_x86_64.manylinux2014_x86_64.whl (4.5 MB)\n",
            "\u001b[2K   \u001b[90m━━━━━━━━━━━━━━━━━━━━━━━━━━━━━━━━━━━━━━━━\u001b[0m \u001b[32m4.5/4.5 MB\u001b[0m \u001b[31m84.3 MB/s\u001b[0m eta \u001b[36m0:00:00\u001b[0m\n",
            "\u001b[?25hBuilding wheels for collected packages: htmlmin\n",
            "  Building wheel for htmlmin (setup.py) ... \u001b[?25l\u001b[?25hdone\n",
            "  Created wheel for htmlmin: filename=htmlmin-0.1.12-py3-none-any.whl size=27081 sha256=d8a2f55a447aeae9a5d22301959a1389f7a5a0233e1d2a4e60b969234315c97e\n",
            "  Stored in directory: /root/.cache/pip/wheels/dd/91/29/a79cecb328d01739e64017b6fb9a1ab9d8cb1853098ec5966d\n",
            "Successfully built htmlmin\n",
            "Installing collected packages: htmlmin, PyWavelets, multimethod, dacite, imagehash, visions, phik, ydata-profiling\n",
            "Successfully installed PyWavelets-1.7.0 dacite-1.8.1 htmlmin-0.1.12 imagehash-4.3.1 multimethod-1.12 phik-0.12.4 visions-0.7.6 ydata-profiling-4.12.0\n"
          ]
        }
      ]
    },
    {
      "cell_type": "code",
      "source": [
        "# Importan los datos con las herramientas del curso. (Pandas)\n",
        "import geopandas as gpd\n",
        "import geodatasets\n",
        "import numpy as np\n",
        "import pandas as pd\n",
        "from matplotlib import pyplot as plt\n",
        "from shapely.geometry import Point\n",
        "import seaborn as sns\n",
        "from sklearn import datasets\n",
        "from ydata_profiling import ProfileReport\n",
        "from sklearn.preprocessing import MinMaxScaler"
      ],
      "metadata": {
        "id": "47jtk83uX306"
      },
      "execution_count": null,
      "outputs": []
    },
    {
      "cell_type": "markdown",
      "source": [
        "Se importan dos DataFrames, el primero corresponde a las observaciones obtenidas de iNaturalist y el segundo es la [Lista Roja](https://www.iucnredlist.org/es/search) de la UICN del **estado de conservación** de las especies de ***anfibios*** a nivel mundial."
      ],
      "metadata": {
        "id": "F1x5hXl7BI71"
      }
    },
    {
      "cell_type": "code",
      "source": [
        "# DataFrame de observaciones\n",
        "register_filepath1 = \"/content/anfibios.csv\"\n",
        "df1 = pd.read_csv(register_filepath1)\n",
        "\n",
        "# DataFrame de lista de conservacion Obtenida de: https://www.iucnredlist.org/es/search\n",
        "register_filepath2 = \"/content/redlist.csv\"\n",
        "dfred = pd.read_csv(register_filepath2)\n"
      ],
      "metadata": {
        "id": "3M_yXrRkXLH6",
        "colab": {
          "base_uri": "https://localhost:8080/",
          "height": 356
        },
        "outputId": "c099a346-dbc8-4bdf-c902-7c5189156fff"
      },
      "execution_count": null,
      "outputs": [
        {
          "output_type": "error",
          "ename": "FileNotFoundError",
          "evalue": "[Errno 2] No such file or directory: '/content/anfibios.csv'",
          "traceback": [
            "\u001b[0;31m---------------------------------------------------------------------------\u001b[0m",
            "\u001b[0;31mFileNotFoundError\u001b[0m                         Traceback (most recent call last)",
            "\u001b[0;32m<ipython-input-3-4d6aca9e8620>\u001b[0m in \u001b[0;36m<cell line: 3>\u001b[0;34m()\u001b[0m\n\u001b[1;32m      1\u001b[0m \u001b[0;31m# DataFrame de observaciones\u001b[0m\u001b[0;34m\u001b[0m\u001b[0;34m\u001b[0m\u001b[0m\n\u001b[1;32m      2\u001b[0m \u001b[0mregister_filepath1\u001b[0m \u001b[0;34m=\u001b[0m \u001b[0;34m\"/content/anfibios.csv\"\u001b[0m\u001b[0;34m\u001b[0m\u001b[0;34m\u001b[0m\u001b[0m\n\u001b[0;32m----> 3\u001b[0;31m \u001b[0mdf1\u001b[0m \u001b[0;34m=\u001b[0m \u001b[0mpd\u001b[0m\u001b[0;34m.\u001b[0m\u001b[0mread_csv\u001b[0m\u001b[0;34m(\u001b[0m\u001b[0mregister_filepath1\u001b[0m\u001b[0;34m)\u001b[0m\u001b[0;34m\u001b[0m\u001b[0;34m\u001b[0m\u001b[0m\n\u001b[0m\u001b[1;32m      4\u001b[0m \u001b[0;34m\u001b[0m\u001b[0m\n\u001b[1;32m      5\u001b[0m \u001b[0;31m# DataFrame de lista de conservacion Obtenida de: https://www.iucnredlist.org/es/search\u001b[0m\u001b[0;34m\u001b[0m\u001b[0;34m\u001b[0m\u001b[0m\n",
            "\u001b[0;32m/usr/local/lib/python3.10/dist-packages/pandas/io/parsers/readers.py\u001b[0m in \u001b[0;36mread_csv\u001b[0;34m(filepath_or_buffer, sep, delimiter, header, names, index_col, usecols, dtype, engine, converters, true_values, false_values, skipinitialspace, skiprows, skipfooter, nrows, na_values, keep_default_na, na_filter, verbose, skip_blank_lines, parse_dates, infer_datetime_format, keep_date_col, date_parser, date_format, dayfirst, cache_dates, iterator, chunksize, compression, thousands, decimal, lineterminator, quotechar, quoting, doublequote, escapechar, comment, encoding, encoding_errors, dialect, on_bad_lines, delim_whitespace, low_memory, memory_map, float_precision, storage_options, dtype_backend)\u001b[0m\n\u001b[1;32m   1024\u001b[0m     \u001b[0mkwds\u001b[0m\u001b[0;34m.\u001b[0m\u001b[0mupdate\u001b[0m\u001b[0;34m(\u001b[0m\u001b[0mkwds_defaults\u001b[0m\u001b[0;34m)\u001b[0m\u001b[0;34m\u001b[0m\u001b[0;34m\u001b[0m\u001b[0m\n\u001b[1;32m   1025\u001b[0m \u001b[0;34m\u001b[0m\u001b[0m\n\u001b[0;32m-> 1026\u001b[0;31m     \u001b[0;32mreturn\u001b[0m \u001b[0m_read\u001b[0m\u001b[0;34m(\u001b[0m\u001b[0mfilepath_or_buffer\u001b[0m\u001b[0;34m,\u001b[0m \u001b[0mkwds\u001b[0m\u001b[0;34m)\u001b[0m\u001b[0;34m\u001b[0m\u001b[0;34m\u001b[0m\u001b[0m\n\u001b[0m\u001b[1;32m   1027\u001b[0m \u001b[0;34m\u001b[0m\u001b[0m\n\u001b[1;32m   1028\u001b[0m \u001b[0;34m\u001b[0m\u001b[0m\n",
            "\u001b[0;32m/usr/local/lib/python3.10/dist-packages/pandas/io/parsers/readers.py\u001b[0m in \u001b[0;36m_read\u001b[0;34m(filepath_or_buffer, kwds)\u001b[0m\n\u001b[1;32m    618\u001b[0m \u001b[0;34m\u001b[0m\u001b[0m\n\u001b[1;32m    619\u001b[0m     \u001b[0;31m# Create the parser.\u001b[0m\u001b[0;34m\u001b[0m\u001b[0;34m\u001b[0m\u001b[0m\n\u001b[0;32m--> 620\u001b[0;31m     \u001b[0mparser\u001b[0m \u001b[0;34m=\u001b[0m \u001b[0mTextFileReader\u001b[0m\u001b[0;34m(\u001b[0m\u001b[0mfilepath_or_buffer\u001b[0m\u001b[0;34m,\u001b[0m \u001b[0;34m**\u001b[0m\u001b[0mkwds\u001b[0m\u001b[0;34m)\u001b[0m\u001b[0;34m\u001b[0m\u001b[0;34m\u001b[0m\u001b[0m\n\u001b[0m\u001b[1;32m    621\u001b[0m \u001b[0;34m\u001b[0m\u001b[0m\n\u001b[1;32m    622\u001b[0m     \u001b[0;32mif\u001b[0m \u001b[0mchunksize\u001b[0m \u001b[0;32mor\u001b[0m \u001b[0miterator\u001b[0m\u001b[0;34m:\u001b[0m\u001b[0;34m\u001b[0m\u001b[0;34m\u001b[0m\u001b[0m\n",
            "\u001b[0;32m/usr/local/lib/python3.10/dist-packages/pandas/io/parsers/readers.py\u001b[0m in \u001b[0;36m__init__\u001b[0;34m(self, f, engine, **kwds)\u001b[0m\n\u001b[1;32m   1618\u001b[0m \u001b[0;34m\u001b[0m\u001b[0m\n\u001b[1;32m   1619\u001b[0m         \u001b[0mself\u001b[0m\u001b[0;34m.\u001b[0m\u001b[0mhandles\u001b[0m\u001b[0;34m:\u001b[0m \u001b[0mIOHandles\u001b[0m \u001b[0;34m|\u001b[0m \u001b[0;32mNone\u001b[0m \u001b[0;34m=\u001b[0m \u001b[0;32mNone\u001b[0m\u001b[0;34m\u001b[0m\u001b[0;34m\u001b[0m\u001b[0m\n\u001b[0;32m-> 1620\u001b[0;31m         \u001b[0mself\u001b[0m\u001b[0;34m.\u001b[0m\u001b[0m_engine\u001b[0m \u001b[0;34m=\u001b[0m \u001b[0mself\u001b[0m\u001b[0;34m.\u001b[0m\u001b[0m_make_engine\u001b[0m\u001b[0;34m(\u001b[0m\u001b[0mf\u001b[0m\u001b[0;34m,\u001b[0m \u001b[0mself\u001b[0m\u001b[0;34m.\u001b[0m\u001b[0mengine\u001b[0m\u001b[0;34m)\u001b[0m\u001b[0;34m\u001b[0m\u001b[0;34m\u001b[0m\u001b[0m\n\u001b[0m\u001b[1;32m   1621\u001b[0m \u001b[0;34m\u001b[0m\u001b[0m\n\u001b[1;32m   1622\u001b[0m     \u001b[0;32mdef\u001b[0m \u001b[0mclose\u001b[0m\u001b[0;34m(\u001b[0m\u001b[0mself\u001b[0m\u001b[0;34m)\u001b[0m \u001b[0;34m->\u001b[0m \u001b[0;32mNone\u001b[0m\u001b[0;34m:\u001b[0m\u001b[0;34m\u001b[0m\u001b[0;34m\u001b[0m\u001b[0m\n",
            "\u001b[0;32m/usr/local/lib/python3.10/dist-packages/pandas/io/parsers/readers.py\u001b[0m in \u001b[0;36m_make_engine\u001b[0;34m(self, f, engine)\u001b[0m\n\u001b[1;32m   1878\u001b[0m                 \u001b[0;32mif\u001b[0m \u001b[0;34m\"b\"\u001b[0m \u001b[0;32mnot\u001b[0m \u001b[0;32min\u001b[0m \u001b[0mmode\u001b[0m\u001b[0;34m:\u001b[0m\u001b[0;34m\u001b[0m\u001b[0;34m\u001b[0m\u001b[0m\n\u001b[1;32m   1879\u001b[0m                     \u001b[0mmode\u001b[0m \u001b[0;34m+=\u001b[0m \u001b[0;34m\"b\"\u001b[0m\u001b[0;34m\u001b[0m\u001b[0;34m\u001b[0m\u001b[0m\n\u001b[0;32m-> 1880\u001b[0;31m             self.handles = get_handle(\n\u001b[0m\u001b[1;32m   1881\u001b[0m                 \u001b[0mf\u001b[0m\u001b[0;34m,\u001b[0m\u001b[0;34m\u001b[0m\u001b[0;34m\u001b[0m\u001b[0m\n\u001b[1;32m   1882\u001b[0m                 \u001b[0mmode\u001b[0m\u001b[0;34m,\u001b[0m\u001b[0;34m\u001b[0m\u001b[0;34m\u001b[0m\u001b[0m\n",
            "\u001b[0;32m/usr/local/lib/python3.10/dist-packages/pandas/io/common.py\u001b[0m in \u001b[0;36mget_handle\u001b[0;34m(path_or_buf, mode, encoding, compression, memory_map, is_text, errors, storage_options)\u001b[0m\n\u001b[1;32m    871\u001b[0m         \u001b[0;32mif\u001b[0m \u001b[0mioargs\u001b[0m\u001b[0;34m.\u001b[0m\u001b[0mencoding\u001b[0m \u001b[0;32mand\u001b[0m \u001b[0;34m\"b\"\u001b[0m \u001b[0;32mnot\u001b[0m \u001b[0;32min\u001b[0m \u001b[0mioargs\u001b[0m\u001b[0;34m.\u001b[0m\u001b[0mmode\u001b[0m\u001b[0;34m:\u001b[0m\u001b[0;34m\u001b[0m\u001b[0;34m\u001b[0m\u001b[0m\n\u001b[1;32m    872\u001b[0m             \u001b[0;31m# Encoding\u001b[0m\u001b[0;34m\u001b[0m\u001b[0;34m\u001b[0m\u001b[0m\n\u001b[0;32m--> 873\u001b[0;31m             handle = open(\n\u001b[0m\u001b[1;32m    874\u001b[0m                 \u001b[0mhandle\u001b[0m\u001b[0;34m,\u001b[0m\u001b[0;34m\u001b[0m\u001b[0;34m\u001b[0m\u001b[0m\n\u001b[1;32m    875\u001b[0m                 \u001b[0mioargs\u001b[0m\u001b[0;34m.\u001b[0m\u001b[0mmode\u001b[0m\u001b[0;34m,\u001b[0m\u001b[0;34m\u001b[0m\u001b[0;34m\u001b[0m\u001b[0m\n",
            "\u001b[0;31mFileNotFoundError\u001b[0m: [Errno 2] No such file or directory: '/content/anfibios.csv'"
          ]
        }
      ]
    },
    {
      "cell_type": "markdown",
      "source": [
        "El Dataframe original tiene una gran cantidad de información. Por lo que priorizamos las columnas de interés para este proyecto."
      ],
      "metadata": {
        "id": "gcjCSBRHB0qZ"
      }
    },
    {
      "cell_type": "code",
      "source": [
        "# Creamos un nuevo dataframe (df2) a partir del original (df1)\n",
        "df2 = df1[['id', 'observed_on_string', 'observed_on', 'time_observed_at', 'time_zone',\n",
        "           'user_id', 'user_login', 'user_name',\n",
        "           'url', 'image_url', 'captive_cultivated',\n",
        "           'place_guess', 'latitude',\t'longitude', 'positional_accuracy', 'place_county_name', 'place_state_name', 'place_country_name', 'place_admin1_name', 'place_admin2_name',\n",
        "           'iconic_taxon_name', 'taxon_id', 'taxon_family_name', 'scientific_name', 'common_name', 'species_guess'\n",
        "           ]]"
      ],
      "metadata": {
        "id": "tXGzgQwxaeAS"
      },
      "execution_count": null,
      "outputs": []
    },
    {
      "cell_type": "code",
      "source": [
        "# Utilizan herramientas del curso para realizar un análisis exploratorio de datos (Pandas o ydata-profiling).\n",
        "# Creamos el informe con pandas-profiling\n",
        "profile2 = ProfileReport(df2, title=\"Observaciones de Anfibios - iNaturalist\", explorative=True)\n",
        "\n",
        "# Mostrar el informe en un notebook\n",
        "profile2.to_notebook_iframe()\n"
      ],
      "metadata": {
        "id": "cJXJCrq4dZc5"
      },
      "execution_count": null,
      "outputs": []
    },
    {
      "cell_type": "markdown",
      "source": [
        "## Merge Dataframes\n",
        "\n",
        "Se realiza un cruce de datos del dataframe original de las observaciones extraídas y la Lista Roja de la UICN. Esto nos permitió categorizar rápidamente las especies presentes en las observaciones de acuerdo a la información más reciente de su nivel de conservación."
      ],
      "metadata": {
        "id": "WetIK7Pj7f8F"
      }
    },
    {
      "cell_type": "code",
      "source": [
        "# Hacer el merge entre df1 y df2 basado en los nombres científicos\n",
        "df2 = df2.merge(dfred[['scientificName', 'redlistCategory', 'realm', 'yearPublished']],\n",
        "                left_on='scientific_name',\n",
        "                right_on='scientificName',\n",
        "                how='left')\n",
        "df2.drop(columns=['scientificName'], inplace=True)"
      ],
      "metadata": {
        "id": "fipwqfObws7F"
      },
      "execution_count": null,
      "outputs": []
    },
    {
      "cell_type": "code",
      "source": [
        "display(df2.shape)\n",
        "display(df2)"
      ],
      "metadata": {
        "id": "wH1Gz9epx6eu"
      },
      "execution_count": null,
      "outputs": []
    },
    {
      "cell_type": "code",
      "source": [
        "categories = df2['redlistCategory'].value_counts()\n",
        "\n",
        "# Almacenar en un DF\n",
        "categories_df = categories.reset_index()\n",
        "\n",
        "# Renombrar columnas\n",
        "categories_df.columns = ['redlistCategory', 'count']\n",
        "display(categories_df)\n",
        "\n",
        "display(df2[df2['redlistCategory'] == \"Critically Endangered\"])"
      ],
      "metadata": {
        "id": "YraGikOkxEVD"
      },
      "execution_count": null,
      "outputs": []
    },
    {
      "cell_type": "markdown",
      "source": [
        "## Limpieza de datos NaN"
      ],
      "metadata": {
        "id": "iJb_494gA1wR"
      }
    },
    {
      "cell_type": "markdown",
      "source": [
        "Se eliminan registros que tienen NaN en Familia (taxon_family_name), luego de validar que estos no tienen la información completa para procesarse."
      ],
      "metadata": {
        "id": "J-kRHNhACDHk"
      }
    },
    {
      "cell_type": "code",
      "source": [
        "df_taxon_fam_nan = df2[df2['taxon_family_name'].isna()]\n",
        "display(df_taxon_fam_nan.head(2))\n",
        "diferentes = df_taxon_fam_nan['scientific_name'].value_counts()\n",
        "display(diferentes)"
      ],
      "metadata": {
        "id": "-33i8XVLBRo4"
      },
      "execution_count": null,
      "outputs": []
    },
    {
      "cell_type": "code",
      "source": [
        "# Se realiza la eliminación y la validación de los tamaños previo y posterior por cualquier error\n",
        "display(df2.shape)\n",
        "df2 = df2.dropna(subset=['taxon_family_name'])\n",
        "display(df2.shape)"
      ],
      "metadata": {
        "id": "JZUeQCuHCPv7"
      },
      "execution_count": null,
      "outputs": []
    },
    {
      "cell_type": "code",
      "source": [
        "# Se realiza la eliminación y la validación de los tamaños previo y posterior por cualquier error\n",
        "display(df2.shape)\n",
        "df2 = df2.dropna(subset=['time_observed_at'])\n",
        "display(df2.shape)"
      ],
      "metadata": {
        "id": "cM3b2JwuGkn-"
      },
      "execution_count": null,
      "outputs": []
    },
    {
      "cell_type": "code",
      "source": [
        "# Limpieza de datos\n",
        "\n",
        "# Se asigna un valor estandar a la exactitud del punto gps registrado\n",
        "df2.loc[(df2['positional_accuracy'].isna()), 'positional_accuracy'] = 0\n",
        "\n",
        "# Se asigna un valor estandar a los registros sin nombre comun, species guess y demás columnas\n",
        "df2.loc[(df2['place_state_name'].isna()), 'place_state_name'] = 'Desconocido'\n",
        "df2.loc[(df2['common_name'].isna()), 'common_name'] = 'Desconocido'\n",
        "df2.loc[(df2['species_guess'].isna()), 'species_guess'] = 'Desconocido'\n",
        "df2.loc[(df2['user_name'].isna()), 'user_name'] = 'Desconocido'\n",
        "df2.loc[(df2['place_county_name'].isna()), 'place_county_name'] = 'Desconocido'\n",
        "df2.loc[(df2['place_admin1_name'].isna()), 'place_admin1_name'] = 'Desconocido'\n",
        "df2.loc[(df2['place_admin2_name'].isna()), 'place_admin2_name'] = 'Desconocido'\n",
        "df2.loc[(df2['image_url'].isna()), 'image_url'] = 'https://i.pinimg.com/736x/ab/d7/e5/abd7e5dd501a25bfc1d43b702ea812dc.jpg'\n",
        "df2.loc[(df2['place_guess'].isna()), 'place_guess'] = 'Desconocido'\n",
        "\n",
        "\n",
        "# Visualizamos las columnas existentes\n",
        "print(df2.columns)"
      ],
      "metadata": {
        "id": "Vc25B7Wyeamk"
      },
      "execution_count": null,
      "outputs": []
    },
    {
      "cell_type": "code",
      "source": [
        "# Validar los datos ajustados\n",
        "nan_count = df2.isna().sum()\n",
        "print(nan_count)"
      ],
      "metadata": {
        "id": "nLhDoAjJ1eFe"
      },
      "execution_count": null,
      "outputs": []
    },
    {
      "cell_type": "code",
      "source": [
        "#Realizamos una revisión de los valores que no se mappearon con las categorías de conservación\n",
        "redlist = df2[df2['redlistCategory'].isna()]\n",
        "#display(redlist.head(2))\n",
        "difred = redlist['scientific_name'].value_counts()\n",
        "display(difred)"
      ],
      "metadata": {
        "id": "2fbiGOrcJroq"
      },
      "execution_count": null,
      "outputs": []
    },
    {
      "cell_type": "code",
      "source": [
        "# Se realiza la eliminación y la validación de los tamaños previo y posterior por cualquier error\n",
        "display(df2.shape)\n",
        "df2 = df2.dropna(subset=['redlistCategory'])\n",
        "df2 = df2.dropna(subset=['time_zone'])\n",
        "display(df2.shape)"
      ],
      "metadata": {
        "id": "UN-f46HeMdZw"
      },
      "execution_count": null,
      "outputs": []
    },
    {
      "cell_type": "markdown",
      "source": [
        "Finalmente se obtienen los datos limpios de nulos y datos confiables y categorizados."
      ],
      "metadata": {
        "id": "Mx0RLZhQFEAn"
      }
    },
    {
      "cell_type": "code",
      "source": [
        "# Validar los datos ajustados\n",
        "nan_count = df2.isna().sum()\n",
        "print(nan_count)"
      ],
      "metadata": {
        "id": "YkUtIjj1MmBX"
      },
      "execution_count": null,
      "outputs": []
    },
    {
      "cell_type": "markdown",
      "source": [
        "\n",
        "\n",
        "---\n",
        "\n",
        "\n",
        "# Visualizacion de la distribucion de los datos por familia"
      ],
      "metadata": {
        "id": "MebHgKcMJlcF"
      }
    },
    {
      "cell_type": "code",
      "source": [
        "# Agrupado por familia el conteo de observaciones\n",
        "df_observ_family = df2.groupby('taxon_family_name').size().reset_index(name='observaciones')\n",
        "\n",
        "# Crear una nueva columna 'taxon_family_group' para agrupar los menores a 20 como 'Otros'\n",
        "df_observ_family['taxon_family_group'] = df_observ_family['taxon_family_name'].where(df_observ_family['observaciones'] >= 20, 'Otros')\n",
        "\n",
        "display(df_observ_family)"
      ],
      "metadata": {
        "id": "y3YAC8Wk0YbA"
      },
      "execution_count": null,
      "outputs": []
    },
    {
      "cell_type": "code",
      "source": [
        "# Crear gráfico de barras\n",
        "plt.figure(figsize=(8, 8))\n",
        "\n",
        "# Crear la gráfica de pastel\n",
        "plt.pie(df_observ_family.observaciones, labels=df_observ_family.taxon_family_name, autopct='%1.1f%%')\n",
        "\n",
        "# Título del gráfico\n",
        "plt.title('Distribución de las observaciones por Familia')\n",
        "\n",
        "plt.show()"
      ],
      "metadata": {
        "id": "ZVqrCYV90u1B"
      },
      "execution_count": null,
      "outputs": []
    },
    {
      "cell_type": "markdown",
      "source": [
        "## 4.2. Visualización de Datos"
      ],
      "metadata": {
        "id": "lx_ycxD6dzYu"
      }
    },
    {
      "cell_type": "markdown",
      "source": [
        "Crearemos diversos mapas basados en la distribución geográfica de Panamá por provincias.\n",
        "\n",
        "Adicionalmente utilizaremos los mapas para graficar puntos de interés.\n",
        "\n",
        "---"
      ],
      "metadata": {
        "id": "QI7FyaB3d2Wx"
      }
    },
    {
      "cell_type": "code",
      "source": [
        "# Cargamos el archivo .shp\n",
        "gdf = gpd.read_file('/content/gadm41_PAN_1.shp')\n",
        "\n",
        "# Agregamos una columna provincia al GeoDataFrame\n",
        "provincias = ['Bocas del Toro', 'Chiriquí', ' Coclé', 'Colón','Darién', ' Emberá Wounaan', ' Herrera', ' Guna Yala', ' Los Santos',' Ngäbe-Buglé', ' Panamá', 'Panamá Oeste', 'Veraguas'  ]\n",
        "gdf['provincia'] = provincias\n",
        "gdf"
      ],
      "metadata": {
        "id": "x1S38WbteEnv"
      },
      "execution_count": null,
      "outputs": []
    },
    {
      "cell_type": "markdown",
      "source": [
        "# Observaciones de anfibios por provincia"
      ],
      "metadata": {
        "id": "Ytx-VIWCG5c9"
      }
    },
    {
      "cell_type": "code",
      "source": [
        "# Agregamos la densidad de observaciones de los anfibios por provincia\n",
        "\n",
        "# Agrupar por año y obtener las observaciones\n",
        "df2_observ_prov = df2.groupby('place_state_name').size().reset_index(name='observaciones')\n",
        "df2_observ_prov.sort_values(by='observaciones', ascending=False)\n",
        "df2_observ_prov\n",
        "\n",
        "\n",
        "# Crear gráfico de barras\n",
        "plt.figure(figsize=(6, 6))\n",
        "df2_observ_prov_ordenado = df2_observ_prov.sort_values(by='observaciones', ascending=True)\n",
        "df2_observ_prov_ordenado.plot(kind='barh', x='place_state_name', y='observaciones', color='#3CB371', ax=plt.gca())\n",
        "\n",
        "# Título del gráfico\n",
        "plt.title('Observaciones de anfibios por provincia')\n",
        "\n",
        "# Etiquetas de los Ejes\n",
        "plt.ylabel('Provincias')\n",
        "plt.xlabel('Número de observaciones')\n",
        "\n",
        "plt.grid()\n",
        "plt.show()\n",
        "display(df2_observ_prov_ordenado)"
      ],
      "metadata": {
        "id": "ybf0_b2BqVec"
      },
      "execution_count": null,
      "outputs": []
    },
    {
      "cell_type": "markdown",
      "source": [
        "# Densidad de anfibios segun las observaciones por Provincia en Panamá"
      ],
      "metadata": {
        "id": "oMdD-SM_GzVa"
      }
    },
    {
      "cell_type": "code",
      "source": [
        "# Agregamos la columna 'Observacion'\n",
        "gdf['observación'] =  ['2360', '1313', ' 1632', '2955','722', '36', ' 149',' 231','305', ' 152', ' 3133', '1553', '1158'  ]\n",
        "\n",
        "gdf['observación'] = gdf['observación'].str.replace(',', '').astype(int)\n",
        "# Graficamos la densidad de anfibios segun las observaciones\n",
        "fig, ax = plt.subplots(1, 1, figsize=(10, 10))\n",
        "gdf.plot(column='observación', ax=ax, legend=True,legend_kwds={\"loc\": \"center right\", \"bbox_to_anchor\": (1.15, 0.5),}, categorical=True, cmap='OrRd', edgecolor=\"black\",  linewidth=0.3)\n",
        "for x, y, label in zip(gdf.geometry.centroid.x, gdf.geometry.centroid.y, gdf['provincia']):\n",
        "    ax.text(x, y, label, fontsize=10, ha='center')\n",
        "plt.title('Densidad según las observaciones de anfibios por Provincia en Panamá')\n",
        "plt.show()\n",
        "gdf"
      ],
      "metadata": {
        "id": "McaNzO43v9he"
      },
      "execution_count": null,
      "outputs": []
    },
    {
      "cell_type": "markdown",
      "source": [
        "# Sitios críticos para la conservación"
      ],
      "metadata": {
        "id": "_NYVDvpeG-QM"
      }
    },
    {
      "cell_type": "code",
      "source": [
        "# Sitios críticos para la conservación\n",
        "# Coordenadas X y Y (latitud y longitud)\n",
        "\n",
        "puntos_conservacion = [\n",
        "    (8.5, -82.5),  # Tierras Altas de Panamá\n",
        "    (8.9, -80.4),  # Panamá Central\n",
        "    (7.9, -77.5),  # Chocó-Darién\n",
        "    (8.6, -79.9),  # Parque Nacional Altos de Campana\n",
        "    (8.5, -80.5),  # Valle de Antón\n",
        "    (8.4, -80.2),  # Parque Nacional General de División Omar Torrijos Herrera\n",
        "    (8.3, -77.7),  # Cerro Sapo\n",
        "    (8.7, -82.6),  # Parque Internacional La Amistad\n",
        "    (8.8, -81.6),  # Reserva Forestal Fortuna\n",
        "    (7.7, -77.8)   # Parque Nacional Darién\n",
        "]\n",
        "\n",
        "\n",
        "# Creamos un GeoDataFrame para los puntos\n",
        "puntos = gpd.GeoDataFrame(geometry=[Point(lon, lat) for lat, lon in puntos_conservacion])\n",
        "\n",
        "#agregamos dos columnas al GeoDataFrame\n",
        "provincias = ['Chiriquí', 'Panamá', 'Darién', ' Panamá', 'Coclé', ' Coclé', ' Darién','Chiriquí , Bocas del Toro', 'Chiriquí' ,'Darién' ]\n",
        "puntos['provincia'] = provincias\n",
        "lugares = ['Tierras Altas de Panamà', 'Panamá Central' ,'Chocó-Darién' , 'Parque Nacional Altos de Campana', 'El Valle de Antón', 'Parque Nacional de División General Omar Torrijos Herrera', 'Cerro Sapo', 'Parque Internacional La Amistad', 'Reserva Forestal Fortuna','Parque Nacional Darién']\n",
        "puntos['lugar'] = lugares\n",
        "\n",
        "# Graficamos los puntos sobre el mapa\n",
        "n_lug = len(puntos['lugar'].unique())\n",
        "cmap = plt.get_cmap('tab20b', n_lug)\n",
        "\n",
        "fig, ax = plt.subplots(1, 1, figsize=(10, 10))\n",
        "gdf.plot(ax=ax, color='lightgrey', edgecolor=\"gray\")\n",
        "puntos.plot(column='lugar', ax=ax, legend=True,legend_kwds={\"loc\": \"center right\", \"bbox_to_anchor\": (1.62, 0.68),}, cmap=cmap, markersize=300, marker='*', edgecolor='black', linewidth=0.8)\n",
        "\n",
        "plt.title('Mapa de Sitios Críticos para la conservación en Panamá')\n",
        "plt.show()"
      ],
      "metadata": {
        "id": "xP_rhPGiwDTY"
      },
      "execution_count": null,
      "outputs": []
    },
    {
      "cell_type": "markdown",
      "source": [
        "# Análisis por especies y niveles de conservación"
      ],
      "metadata": {
        "id": "707Mqt4ax1hZ"
      }
    },
    {
      "cell_type": "markdown",
      "source": [
        "### Especies en Peligro Crítico con una sola observación"
      ],
      "metadata": {
        "id": "sRKbRsuwHH5Z"
      }
    },
    {
      "cell_type": "code",
      "source": [
        "# Grafico de las observaciones para las especies en peligro de extinsión\n",
        "dfCE = df2[df2['redlistCategory'] == \"Critically Endangered\"] # Peligro critico\n",
        "\n",
        "dfgroup = dfCE.groupby('scientific_name').size().reset_index(name='observaciones')\n",
        "dfgroup_sorted = dfgroup.sort_values(by='observaciones', ascending=True)\n",
        "#df_observ_family = df2.groupby('taxon_family_name').size().reset_index(name='observaciones')\n",
        "display(dfgroup_sorted)"
      ],
      "metadata": {
        "id": "F1tbsMz6wFVT"
      },
      "execution_count": null,
      "outputs": []
    },
    {
      "cell_type": "code",
      "source": [
        "one_observ = dfgroup_sorted[dfgroup_sorted['observaciones'] == 1]['scientific_name']\n",
        "dfCE_OneObs = dfCE[(dfCE['redlistCategory'] == \"Critically Endangered\") & (dfCE['scientific_name'].isin(one_observ))]\n",
        "\n",
        "# Crear el GeoDataFrame para los puntos con las coordenadas y nombres científicos\n",
        "puntos = gpd.GeoDataFrame(\n",
        "    dfCE_OneObs,\n",
        "    geometry=[Point(lon, lat) for lat, lon in zip(dfCE_OneObs['latitude'], dfCE_OneObs['longitude'])]\n",
        ")\n",
        "\n",
        "# Agregar la columna 'scientific_name' como 'nombre' al GeoDataFrame\n",
        "puntos['nombre'] = dfCE_OneObs['scientific_name']\n",
        "\n",
        "# Graficamos los puntos sobre el mapa\n",
        "n_lug = len(puntos['nombre'].unique())\n",
        "cmap = plt.get_cmap('tab20b', n_lug)\n",
        "\n",
        "fig, ax = plt.subplots(1, 1, figsize=(10, 10))\n",
        "gdf.plot(ax=ax, color='lightgrey', edgecolor=\"gray\")\n",
        "puntos.plot(column='nombre', ax=ax, legend=True,\n",
        "            legend_kwds={\"loc\": \"center right\", \"bbox_to_anchor\": (1.35, 0.68)},\n",
        "            cmap=cmap, markersize=400, marker='.', edgecolor='black', linewidth=0.8)\n",
        "\n",
        "plt.title('Especies en Peligro Crítico con una sola observación')\n",
        "plt.show()"
      ],
      "metadata": {
        "id": "ooTVeN642DEh"
      },
      "execution_count": null,
      "outputs": []
    },
    {
      "cell_type": "code",
      "source": [
        "# Creamos un nuevo dataframe con columnas especificas\n",
        "dfnew2 = df2[['scientific_name', 'place_state_name', 'place_admin1_name', 'place_admin2_name', 'redlistCategory', 'observed_on']]"
      ],
      "metadata": {
        "id": "GMmsgo2m-E8Y"
      },
      "execution_count": null,
      "outputs": []
    },
    {
      "cell_type": "code",
      "source": [
        "dfnew21 = dfnew2.groupby('redlistCategory').size().reset_index(name='observaciones')\n",
        "dfnew21.sort_values(by='observaciones', ascending=False)\n",
        "\n",
        "display(dfnew21)"
      ],
      "metadata": {
        "id": "W92uCFMx-VLD"
      },
      "execution_count": null,
      "outputs": []
    },
    {
      "cell_type": "code",
      "source": [
        "# Se filtran los datos por categoria de conservacion excluyendo los que no estan en peligro o vulnerables.\n",
        "dfNotLC_Obs = dfnew2[(dfnew2['redlistCategory'] != \"Least Concern\")]\n",
        "\n",
        "# Agrupar por año y obtener las observaciones\n",
        "dfnew22 = dfNotLC_Obs.groupby('redlistCategory').size().reset_index(name='observaciones')\n",
        "dfnew22.sort_values(by='observaciones', ascending=False)\n",
        "\n",
        "# Crear gráfico\n",
        "plt.figure(figsize=(8, 8))\n",
        "\n",
        "# Crear la gráfica de pastel\n",
        "plt.pie(dfnew22.observaciones, labels=dfnew22.redlistCategory, autopct='%1.1f%%')\n",
        "\n",
        "# Título del gráfico\n",
        "plt.suptitle('Distribución de las observaciones por Nivel de Conservación')\n",
        "plt.title('Exceptuando las especies \"Least Concern\"', fontsize=10)\n",
        "\n",
        "plt.show()"
      ],
      "metadata": {
        "id": "QhlngDP66JLw"
      },
      "execution_count": null,
      "outputs": []
    },
    {
      "cell_type": "markdown",
      "source": [
        "---\n",
        "---\n",
        "\n",
        "# Descripción de los resultados obtenidos\n",
        "\n",
        "\n",
        "\n"
      ],
      "metadata": {
        "id": "M7Y4ctorjJZx"
      }
    },
    {
      "cell_type": "markdown",
      "source": [
        "### Principal hallazgo\n",
        "\n",
        "Identificación de Especies y Estado de Conservación: Se identificaron un total de 289 especies de anfibios en Panamá, de las cuales un 54% de las observaciones de especies se identificaron en peligro critico. Este hallazgo subraya la importancia de Panamá como un hotspot de biodiversidad y la urgencia de implementar medidas de conservación para proteger estas especies amenazadas.\n"
      ],
      "metadata": {
        "id": "hHmAp7qmk1oq"
      }
    },
    {
      "cell_type": "markdown",
      "source": [
        "### Hallazgos complementarios\n",
        "\n",
        "1.  \n",
        "2.\n",
        "3."
      ],
      "metadata": {
        "id": "JVkasA8qlk-1"
      }
    },
    {
      "cell_type": "markdown",
      "source": [
        "---\n",
        "\n",
        "# Conclusiones\n",
        "\n",
        "\n",
        "1.  Se identificaron un total de \t289 especies de anfibios en Panamá, lo que resalta la rica biodiversidad del país y su importancia como hábitat para estos organismos.\n",
        "\n",
        "2.  Un 54% de las observaciones de las especies identificadas estan en peligro crítico, lo que indica la necesidad urgente de implementar medidas de conservación efectivas para proteger estas poblaciones amenazadas.\n",
        "\n",
        "3. Las áreas con mayor concentración de especies en peligro se localizaron principalmente en las provincias de Chiriquí, Panamá, Darién, Coclé y Bocas del Toro, lo que sugiere que estas zonas requieren atención prioritaria para la conservación y manejo sostenible.\n",
        "\n",
        "4. Se determinaron varias zonas con un alto avistamiento de anfibios, las cuales son: Panamá, Colón, Bocas del Toro, Coclé, Panamá Oeste, Chiriquí y Veraguas, lo que puede servir como base para futuros estudios y programas de monitoreo, así como para la educación ambiental.\n",
        "\n",
        "El proyecto ha proporcionado información valiosa sobre la diversidad y el estado de conservación de los anfibios en Panamá, destacando la necesidad crítica de proteger las áreas identificadas como prioritarias. La integración de datos sobre avistamientos y el estado de conservación permitirá desarrollar estrategias más efectivas para la preservación de estas especies y sus hábitats, contribuyendo así a la sostenibilidad ecológica del país.\n",
        "\n"
      ],
      "metadata": {
        "id": "POTGmocsjSIf"
      }
    },
    {
      "cell_type": "markdown",
      "source": [
        "# Referencias\n",
        "\n",
        "Aguirre, B., Edgardo, G., & Sosa-Batuarno, A. (2024). Riqueza y abundancia de anfibios y reptiles asociada al sendero natural árboles cuadrados del Valle de Antón, Provincia de Coclé. Revista Cientifífica Vida Natural, 34-35.\n",
        "\n",
        "Alonso, L. A. (Mayo de 2023). Anfibios. (E. A. Zúñiga, Entrevistador)\n",
        "\n",
        "Contreras, M., Voitier, J., Walter-Conrado, M., & Sosa-Batuarno, A. (2023). Anfibios (Amphibia: Anura) en el Área Recreativa Lago Gatún, Colón,Panamá. Revista Científica Guacamaya, 1-2.\n",
        "\n",
        "Muñoz, C. G. (2023). Enfermedades emergentes en anfibios. Estudio de prevalencia en humedales del sur de Alicante. Elche: Universidad Miguel Hernández de Elche. Obtenido de Universidad Miguel Hernández .\n",
        "\n",
        "Quiroz, M., Miranda, M., & Batista, A. (2020). Anfibios en la Unión de las Américas: Ranas como modelo de estudio para desafíos de la conservación en Panamá. Los Naturalistas, 10-12."
      ],
      "metadata": {
        "id": "14-PmVJ8jX6Y"
      }
    },
    {
      "cell_type": "markdown",
      "source": [
        "> # \"Los datos correctamente analizados siempre cuentan una historia; el reto está en saber escucharla.\"\n",
        "— **Stephen Few**"
      ],
      "metadata": {
        "id": "aCzcG_GPau4Y"
      }
    }
  ]
}
